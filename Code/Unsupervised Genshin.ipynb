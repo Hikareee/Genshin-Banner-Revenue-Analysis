{
 "cells": [
  {
   "cell_type": "code",
   "execution_count": 213,
   "id": "f6e455a3",
   "metadata": {},
   "outputs": [
    {
     "name": "stdout",
     "output_type": "stream",
     "text": [
      "Requirement already satisfied: kneed in c:\\users\\tiffa\\anaconda3\\lib\\site-packages (0.8.1)\n",
      "Requirement already satisfied: scipy>=1.0.0 in c:\\users\\tiffa\\anaconda3\\lib\\site-packages (from kneed) (1.7.3)\n",
      "Requirement already satisfied: numpy>=1.14.2 in c:\\users\\tiffa\\anaconda3\\lib\\site-packages (from kneed) (1.21.5)\n"
     ]
    }
   ],
   "source": [
    "!pip install kneed\n",
    "import seaborn as sn\n",
    "import pandas as pd\n",
    "import numpy as np\n",
    "import matplotlib.pyplot as plt\n",
    "from kneed import KneeLocator\n",
    "from sklearn.cluster import KMeans\n",
    "from sklearn.datasets import make_blobs\n",
    "from sklearn.cluster import MeanShift, estimate_bandwidth\n",
    "from scipy.cluster.hierarchy import dendrogram, linkage"
   ]
  },
  {
   "cell_type": "code",
   "execution_count": 214,
   "id": "76f9a9fe",
   "metadata": {},
   "outputs": [
    {
     "data": {
      "text/html": [
       "<div>\n",
       "<style scoped>\n",
       "    .dataframe tbody tr th:only-of-type {\n",
       "        vertical-align: middle;\n",
       "    }\n",
       "\n",
       "    .dataframe tbody tr th {\n",
       "        vertical-align: top;\n",
       "    }\n",
       "\n",
       "    .dataframe thead th {\n",
       "        text-align: right;\n",
       "    }\n",
       "</style>\n",
       "<table border=\"1\" class=\"dataframe\">\n",
       "  <thead>\n",
       "    <tr style=\"text-align: right;\">\n",
       "      <th></th>\n",
       "      <th>Avg Revenue/Day</th>\n",
       "      <th>Revenue</th>\n",
       "    </tr>\n",
       "  </thead>\n",
       "  <tbody>\n",
       "    <tr>\n",
       "      <th>0</th>\n",
       "      <td>1.225310e+06</td>\n",
       "      <td>30632752.0</td>\n",
       "    </tr>\n",
       "    <tr>\n",
       "      <th>1</th>\n",
       "      <td>1.034095e+06</td>\n",
       "      <td>22750080.0</td>\n",
       "    </tr>\n",
       "    <tr>\n",
       "      <th>2</th>\n",
       "      <td>6.721809e+05</td>\n",
       "      <td>13443619.0</td>\n",
       "    </tr>\n",
       "    <tr>\n",
       "      <th>3</th>\n",
       "      <td>7.393133e+05</td>\n",
       "      <td>16264892.0</td>\n",
       "    </tr>\n",
       "    <tr>\n",
       "      <th>4</th>\n",
       "      <td>5.626718e+05</td>\n",
       "      <td>11816107.0</td>\n",
       "    </tr>\n",
       "  </tbody>\n",
       "</table>\n",
       "</div>"
      ],
      "text/plain": [
       "   Avg Revenue/Day     Revenue\n",
       "0     1.225310e+06  30632752.0\n",
       "1     1.034095e+06  22750080.0\n",
       "2     6.721809e+05  13443619.0\n",
       "3     7.393133e+05  16264892.0\n",
       "4     5.626718e+05  11816107.0"
      ]
     },
     "execution_count": 214,
     "metadata": {},
     "output_type": "execute_result"
    }
   ],
   "source": [
    "#Reading excel data and putting it into a dataframe using pandas\n",
    "df= pd.read_excel(\"Genshin Impact Revenue.xlsx\")\n",
    "df.dropna(inplace=True)\n",
    "Rev= df[['Avg Revenue/Day','Revenue']]\n",
    "Rev.head()"
   ]
  },
  {
   "cell_type": "code",
   "execution_count": 215,
   "id": "126fe229",
   "metadata": {
    "scrolled": true
   },
   "outputs": [
    {
     "name": "stdout",
     "output_type": "stream",
     "text": [
      "Version              float64\n",
      "Version Name          object\n",
      "Start Date            object\n",
      "End Date              object\n",
      "5 Star Characters     object\n",
      "Rerun                float64\n",
      "Mixed                float64\n",
      "Gender                object\n",
      "Revenue              float64\n",
      "Banner Days          float64\n",
      "Avg Revenue/Day      float64\n",
      "dtype: object\n"
     ]
    }
   ],
   "source": [
    "#making sure revenue data type is in float\n",
    "print(df.dtypes)"
   ]
  },
  {
   "cell_type": "code",
   "execution_count": 216,
   "id": "dad901fb",
   "metadata": {},
   "outputs": [
    {
     "name": "stdout",
     "output_type": "stream",
     "text": [
      "<class 'pandas.core.frame.DataFrame'>\n",
      "Int64Index: 39 entries, 0 to 38\n",
      "Data columns (total 11 columns):\n",
      " #   Column             Non-Null Count  Dtype  \n",
      "---  ------             --------------  -----  \n",
      " 0   Version            39 non-null     float64\n",
      " 1   Version Name       39 non-null     object \n",
      " 2   Start Date         39 non-null     object \n",
      " 3   End Date           39 non-null     object \n",
      " 4   5 Star Characters  39 non-null     object \n",
      " 5   Rerun              39 non-null     float64\n",
      " 6   Mixed              39 non-null     int32  \n",
      " 7   Gender             39 non-null     int32  \n",
      " 8   Revenue            39 non-null     float64\n",
      " 9   Banner Days        39 non-null     float64\n",
      " 10  Avg Revenue/Day    39 non-null     float64\n",
      "dtypes: float64(5), int32(2), object(4)\n",
      "memory usage: 3.4+ KB\n"
     ]
    }
   ],
   "source": [
    "#Change data type\n",
    "df.Mixed = df.Mixed.astype(int, copy=False)\n",
    "df.Gender = df.Gender.astype(int, copy=False)\n",
    "df.info()"
   ]
  },
  {
   "cell_type": "code",
   "execution_count": 217,
   "id": "6814e7dd",
   "metadata": {},
   "outputs": [
    {
     "data": {
      "image/png": "[encoded data removed]",
      "text/plain": [
       "<Figure size 432x288 with 1 Axes>"
      ]
     },
     "metadata": {
      "needs_background": "light"
     },
     "output_type": "display_data"
    }
   ],
   "source": [
    "#plotting the data\n",
    "plt.scatter(Rev.iloc[:, 0], Rev.iloc[:, 1], c='red', marker='o', edgecolor='black', s=50)\n",
    "plt.show()"
   ]
  },
  {
   "cell_type": "code",
   "execution_count": 218,
   "id": "0b1cf206",
   "metadata": {},
   "outputs": [
    {
     "data": {
      "text/plain": [
       "array([0, 0, 1, 1, 2, 1, 1, 2, 1, 1, 2, 2, 1, 2, 2, 1, 2, 0, 2, 2, 0, 1,\n",
       "       1, 1, 0, 1, 0, 0, 0, 0, 1, 0, 1, 1, 1, 1, 1, 0, 1])"
      ]
     },
     "execution_count": 218,
     "metadata": {},
     "output_type": "execute_result"
    }
   ],
   "source": [
    "#training K-Means clustering\n",
    "km = KMeans(n_clusters=3, init='k-means++',n_init=10, max_iter=300,tol=1e-04, random_state=0)\n",
    "y_predict = km.fit_predict(Rev)\n",
    "y_predict"
   ]
  },
  {
   "cell_type": "code",
   "execution_count": 219,
   "id": "a0b56fed",
   "metadata": {},
   "outputs": [
    {
     "data": {
      "text/plain": [
       "<matplotlib.collections.PathCollection at 0x25a85dd9250>"
      ]
     },
     "execution_count": 219,
     "metadata": {},
     "output_type": "execute_result"
    },
    {
     "data": {
      "image/png": "[encoded data removed]",
      "text/plain": [
       "<Figure size 432x288 with 1 Axes>"
      ]
     },
     "metadata": {
      "needs_background": "light"
     },
     "output_type": "display_data"
    }
   ],
   "source": [
    "#plotting the trained K-Means clustering\n",
    "plt.scatter(Rev.iloc[:,0],Rev.iloc[:,1],c=y_predict)"
   ]
  },
  {
   "cell_type": "code",
   "execution_count": 220,
   "id": "b42b3003",
   "metadata": {},
   "outputs": [
    {
     "data": {
      "text/html": [
       "<div>\n",
       "<style scoped>\n",
       "    .dataframe tbody tr th:only-of-type {\n",
       "        vertical-align: middle;\n",
       "    }\n",
       "\n",
       "    .dataframe tbody tr th {\n",
       "        vertical-align: top;\n",
       "    }\n",
       "\n",
       "    .dataframe thead th {\n",
       "        text-align: right;\n",
       "    }\n",
       "</style>\n",
       "<table border=\"1\" class=\"dataframe\">\n",
       "  <thead>\n",
       "    <tr style=\"text-align: right;\">\n",
       "      <th></th>\n",
       "      <th>Version</th>\n",
       "      <th>Version Name</th>\n",
       "      <th>Start Date</th>\n",
       "      <th>End Date</th>\n",
       "      <th>5 Star Characters</th>\n",
       "      <th>Rerun</th>\n",
       "      <th>Mixed</th>\n",
       "      <th>Gender</th>\n",
       "      <th>Revenue</th>\n",
       "      <th>Banner Days</th>\n",
       "      <th>Avg Revenue/Day</th>\n",
       "      <th>cluster</th>\n",
       "    </tr>\n",
       "  </thead>\n",
       "  <tbody>\n",
       "    <tr>\n",
       "      <th>0</th>\n",
       "      <td>1.0</td>\n",
       "      <td>Welcome to Tevyat</td>\n",
       "      <td>25/09/2020</td>\n",
       "      <td>19/10/2020</td>\n",
       "      <td>Venti</td>\n",
       "      <td>0.0</td>\n",
       "      <td>0</td>\n",
       "      <td>0</td>\n",
       "      <td>30632752.0</td>\n",
       "      <td>25.0</td>\n",
       "      <td>1.225310e+06</td>\n",
       "      <td>0</td>\n",
       "    </tr>\n",
       "    <tr>\n",
       "      <th>1</th>\n",
       "      <td>1.0</td>\n",
       "      <td>Welcome to Tevyat</td>\n",
       "      <td>20/10/2020</td>\n",
       "      <td>2020-10-11 00:00:00</td>\n",
       "      <td>Klee</td>\n",
       "      <td>0.0</td>\n",
       "      <td>0</td>\n",
       "      <td>1</td>\n",
       "      <td>22750080.0</td>\n",
       "      <td>22.0</td>\n",
       "      <td>1.034095e+06</td>\n",
       "      <td>0</td>\n",
       "    </tr>\n",
       "    <tr>\n",
       "      <th>2</th>\n",
       "      <td>1.1</td>\n",
       "      <td>A New Star Approaches</td>\n",
       "      <td>2020-11-11 00:00:00</td>\n",
       "      <td>30/11/2020</td>\n",
       "      <td>Tartaglia</td>\n",
       "      <td>0.0</td>\n",
       "      <td>0</td>\n",
       "      <td>0</td>\n",
       "      <td>13443619.0</td>\n",
       "      <td>20.0</td>\n",
       "      <td>6.721809e+05</td>\n",
       "      <td>1</td>\n",
       "    </tr>\n",
       "    <tr>\n",
       "      <th>3</th>\n",
       "      <td>1.1</td>\n",
       "      <td>A New Star Approaches</td>\n",
       "      <td>2020-01-12 00:00:00</td>\n",
       "      <td>22/12/2020</td>\n",
       "      <td>Zhongli</td>\n",
       "      <td>0.0</td>\n",
       "      <td>0</td>\n",
       "      <td>0</td>\n",
       "      <td>16264892.0</td>\n",
       "      <td>22.0</td>\n",
       "      <td>7.393133e+05</td>\n",
       "      <td>1</td>\n",
       "    </tr>\n",
       "    <tr>\n",
       "      <th>4</th>\n",
       "      <td>1.2</td>\n",
       "      <td>The Chalk Prince and the Dragon</td>\n",
       "      <td>23/12/2020</td>\n",
       "      <td>2021-12-01 00:00:00</td>\n",
       "      <td>Albedo</td>\n",
       "      <td>0.0</td>\n",
       "      <td>0</td>\n",
       "      <td>0</td>\n",
       "      <td>11816107.0</td>\n",
       "      <td>21.0</td>\n",
       "      <td>5.626718e+05</td>\n",
       "      <td>2</td>\n",
       "    </tr>\n",
       "  </tbody>\n",
       "</table>\n",
       "</div>"
      ],
      "text/plain": [
       "   Version                     Version Name           Start Date  \\\n",
       "0      1.0                Welcome to Tevyat           25/09/2020   \n",
       "1      1.0                Welcome to Tevyat           20/10/2020   \n",
       "2      1.1            A New Star Approaches  2020-11-11 00:00:00   \n",
       "3      1.1            A New Star Approaches  2020-01-12 00:00:00   \n",
       "4      1.2  The Chalk Prince and the Dragon           23/12/2020   \n",
       "\n",
       "              End Date 5 Star Characters  Rerun  Mixed  Gender     Revenue  \\\n",
       "0           19/10/2020             Venti    0.0      0       0  30632752.0   \n",
       "1  2020-10-11 00:00:00              Klee    0.0      0       1  22750080.0   \n",
       "2           30/11/2020         Tartaglia    0.0      0       0  13443619.0   \n",
       "3           22/12/2020           Zhongli    0.0      0       0  16264892.0   \n",
       "4  2021-12-01 00:00:00            Albedo    0.0      0       0  11816107.0   \n",
       "\n",
       "   Banner Days  Avg Revenue/Day  cluster  \n",
       "0         25.0     1.225310e+06        0  \n",
       "1         22.0     1.034095e+06        0  \n",
       "2         20.0     6.721809e+05        1  \n",
       "3         22.0     7.393133e+05        1  \n",
       "4         21.0     5.626718e+05        2  "
      ]
     },
     "execution_count": 220,
     "metadata": {},
     "output_type": "execute_result"
    }
   ],
   "source": [
    "df['cluster'] = y_predict\n",
    "df.head()"
   ]
  },
  {
   "cell_type": "code",
   "execution_count": 221,
   "id": "f808346e",
   "metadata": {},
   "outputs": [
    {
     "data": {
      "image/png": "[encoded data removed]",
      "text/plain": [
       "<Figure size 432x288 with 1 Axes>"
      ]
     },
     "metadata": {
      "needs_background": "light"
     },
     "output_type": "display_data"
    }
   ],
   "source": [
    "# plot the 3 clusters\n",
    "plt.scatter(Rev.iloc[y_predict == 0, 0], Rev.iloc[y_predict == 0, 1], s=30, c='blue', marker='v', edgecolor='blue', label='Cluster 1')\n",
    "\n",
    "plt.scatter(Rev.iloc[y_predict == 1, 0], Rev.iloc[y_predict == 1, 1], s=30, c='pink', marker='s', edgecolor='pink', label='Cluster 2')\n",
    "\n",
    "plt.scatter(Rev.iloc[y_predict == 2, 0], Rev.iloc[y_predict == 2, 1], s=30, c='purple', marker='o', edgecolor='purple', label='Cluster 3')\n",
    "\n",
    "# plot the centroids\n",
    "plt.scatter(km.cluster_centers_[:, 0], km.cluster_centers_[:, 1], s=200, marker='*', c='red', edgecolor='white', label='Centroids')\n",
    "plt.legend(scatterpoints=1)\n",
    "plt.xlabel('Average Revenue per Day')\n",
    "plt.ylabel('Revenue per Banner')\n",
    "\n",
    "plt.grid()\n",
    "plt.show()"
   ]
  },
  {
   "cell_type": "code",
   "execution_count": 222,
   "id": "fea8870b",
   "metadata": {},
   "outputs": [
    {
     "data": {
      "text/plain": [
       "array([0, 0, 1, 1, 1, 1, 1, 1, 1, 1, 1, 1, 1, 1, 1, 1, 1, 0, 1, 1, 0, 1,\n",
       "       1, 1, 0, 1, 0, 0, 0, 0, 1, 0, 1, 1, 1, 1, 1, 0, 1])"
      ]
     },
     "execution_count": 222,
     "metadata": {},
     "output_type": "execute_result"
    }
   ],
   "source": [
    "#training K-Means clustering for 2 clusters only\n",
    "km = KMeans(n_clusters=2, init='k-means++',n_init=10, max_iter=300,tol=1e-04, random_state=0)\n",
    "y_predict = km.fit_predict(Rev)\n",
    "y_predict"
   ]
  },
  {
   "cell_type": "code",
   "execution_count": 223,
   "id": "d6fef7db",
   "metadata": {},
   "outputs": [
    {
     "data": {
      "image/png": "[encoded data removed]",
      "text/plain": [
       "<Figure size 432x288 with 1 Axes>"
      ]
     },
     "metadata": {
      "needs_background": "light"
     },
     "output_type": "display_data"
    }
   ],
   "source": [
    "# plot the 2 clusters\n",
    "plt.scatter(Rev.iloc[y_predict == 0, 0], Rev.iloc[y_predict == 0, 1], s=30, c='blue', marker='v', edgecolor='blue', label='Cluster 1')\n",
    "\n",
    "plt.scatter(Rev.iloc[y_predict == 1, 0], Rev.iloc[y_predict == 1, 1], s=30, c='pink', marker='s', edgecolor='pink', label='Cluster 2')\n",
    "\n",
    "# plot the centroids\n",
    "plt.scatter(km.cluster_centers_[:, 0], km.cluster_centers_[:, 1], s=200, marker='*', c='red', edgecolor='white', label='Centroids')\n",
    "plt.legend(scatterpoints=1)\n",
    "plt.xlabel('Average Revenue per Day')\n",
    "plt.ylabel('Revenue per Banner')\n",
    "\n",
    "plt.grid()\n",
    "plt.show()"
   ]
  },
  {
   "cell_type": "code",
   "execution_count": 224,
   "id": "9477d2ec",
   "metadata": {},
   "outputs": [
    {
     "data": {
      "text/plain": [
       "2"
      ]
     },
     "execution_count": 224,
     "metadata": {},
     "output_type": "execute_result"
    }
   ],
   "source": [
    "#Elbow\n",
    "kl = KneeLocator(range(1, 11), distortions, curve=\"convex\", direction=\"decreasing\")\n",
    "kl.elbow"
   ]
  },
  {
   "cell_type": "code",
   "execution_count": 225,
   "id": "d8573a14",
   "metadata": {},
   "outputs": [
    {
     "data": {
      "text/plain": [
       "[<matplotlib.lines.Line2D at 0x25a85f48dc0>]"
      ]
     },
     "execution_count": 225,
     "metadata": {},
     "output_type": "execute_result"
    },
    {
     "data": {
      "image/png": "[encoded data removed]",
      "text/plain": [
       "<Figure size 432x288 with 1 Axes>"
      ]
     },
     "metadata": {
      "needs_background": "light"
     },
     "output_type": "display_data"
    }
   ],
   "source": [
    "#Draw elbow plot and from that figure out optimal value of k plot\n",
    "plt.xlabel('num of clusters')\n",
    "plt.ylabel('distortions')\n",
    "plt.plot(range(1,11), distortions, marker='o')\n",
    "\n",
    "#the optimal value of k is 2."
   ]
  },
  {
   "cell_type": "code",
   "execution_count": 227,
   "id": "e821b2f5",
   "metadata": {},
   "outputs": [
    {
     "data": {
      "image/png": "[encoded data removed]",
      "text/plain": [
       "<Figure size 432x288 with 1 Axes>"
      ]
     },
     "metadata": {
      "needs_background": "light"
     },
     "output_type": "display_data"
    }
   ],
   "source": [
    "#plotting the data\n",
    "plt.scatter(Gen.iloc[:, 0], Rev.iloc[:, 1], c='red', marker='o', edgecolor='black', s=10)\n",
    "plt.show()"
   ]
  },
  {
   "cell_type": "code",
   "execution_count": 228,
   "id": "15693c2f",
   "metadata": {},
   "outputs": [
    {
     "data": {
      "text/plain": [
       "array([0, 0, 1, 1, 2, 1, 1, 2, 1, 1, 2, 2, 1, 2, 2, 1, 2, 0, 2, 2, 0, 1,\n",
       "       1, 1, 0, 1, 0, 0, 0, 0, 1, 0, 1, 1, 1, 1, 1, 0, 1])"
      ]
     },
     "execution_count": 228,
     "metadata": {},
     "output_type": "execute_result"
    }
   ],
   "source": [
    "#training K-Means clustering\n",
    "km = KMeans(n_clusters=3, init='k-means++',n_init=10, max_iter=300,tol=1e-04, random_state=0)\n",
    "y_predict2 = km.fit_predict(Gen)\n",
    "y_predict2"
   ]
  },
  {
   "cell_type": "code",
   "execution_count": 229,
   "id": "c6f02eff",
   "metadata": {},
   "outputs": [
    {
     "data": {
      "text/plain": [
       "<matplotlib.collections.PathCollection at 0x25a8600fca0>"
      ]
     },
     "execution_count": 229,
     "metadata": {},
     "output_type": "execute_result"
    },
    {
     "data": {
      "image/png": "[encoded data removed]",
      "text/plain": [
       "<Figure size 432x288 with 1 Axes>"
      ]
     },
     "metadata": {
      "needs_background": "light"
     },
     "output_type": "display_data"
    }
   ],
   "source": [
    "#plotting the trained K-Means clustering\n",
    "plt.scatter(Gen.iloc[:,0],Gen.iloc[:,1],c=y_predict2)"
   ]
  },
  {
   "cell_type": "code",
   "execution_count": 230,
   "id": "52be6ac3",
   "metadata": {},
   "outputs": [
    {
     "data": {
      "text/html": [
       "<div>\n",
       "<style scoped>\n",
       "    .dataframe tbody tr th:only-of-type {\n",
       "        vertical-align: middle;\n",
       "    }\n",
       "\n",
       "    .dataframe tbody tr th {\n",
       "        vertical-align: top;\n",
       "    }\n",
       "\n",
       "    .dataframe thead th {\n",
       "        text-align: right;\n",
       "    }\n",
       "</style>\n",
       "<table border=\"1\" class=\"dataframe\">\n",
       "  <thead>\n",
       "    <tr style=\"text-align: right;\">\n",
       "      <th></th>\n",
       "      <th>Version</th>\n",
       "      <th>Version Name</th>\n",
       "      <th>Start Date</th>\n",
       "      <th>End Date</th>\n",
       "      <th>5 Star Characters</th>\n",
       "      <th>Rerun</th>\n",
       "      <th>Mixed</th>\n",
       "      <th>Gender</th>\n",
       "      <th>Revenue</th>\n",
       "      <th>Banner Days</th>\n",
       "      <th>Avg Revenue/Day</th>\n",
       "      <th>cluster</th>\n",
       "      <th>cluster2</th>\n",
       "    </tr>\n",
       "  </thead>\n",
       "  <tbody>\n",
       "    <tr>\n",
       "      <th>0</th>\n",
       "      <td>1.0</td>\n",
       "      <td>Welcome to Tevyat</td>\n",
       "      <td>25/09/2020</td>\n",
       "      <td>19/10/2020</td>\n",
       "      <td>Venti</td>\n",
       "      <td>0.0</td>\n",
       "      <td>0</td>\n",
       "      <td>0</td>\n",
       "      <td>30632752.0</td>\n",
       "      <td>25.0</td>\n",
       "      <td>1.225310e+06</td>\n",
       "      <td>0</td>\n",
       "      <td>0</td>\n",
       "    </tr>\n",
       "    <tr>\n",
       "      <th>1</th>\n",
       "      <td>1.0</td>\n",
       "      <td>Welcome to Tevyat</td>\n",
       "      <td>20/10/2020</td>\n",
       "      <td>2020-10-11 00:00:00</td>\n",
       "      <td>Klee</td>\n",
       "      <td>0.0</td>\n",
       "      <td>0</td>\n",
       "      <td>1</td>\n",
       "      <td>22750080.0</td>\n",
       "      <td>22.0</td>\n",
       "      <td>1.034095e+06</td>\n",
       "      <td>0</td>\n",
       "      <td>0</td>\n",
       "    </tr>\n",
       "    <tr>\n",
       "      <th>2</th>\n",
       "      <td>1.1</td>\n",
       "      <td>A New Star Approaches</td>\n",
       "      <td>2020-11-11 00:00:00</td>\n",
       "      <td>30/11/2020</td>\n",
       "      <td>Tartaglia</td>\n",
       "      <td>0.0</td>\n",
       "      <td>0</td>\n",
       "      <td>0</td>\n",
       "      <td>13443619.0</td>\n",
       "      <td>20.0</td>\n",
       "      <td>6.721809e+05</td>\n",
       "      <td>1</td>\n",
       "      <td>1</td>\n",
       "    </tr>\n",
       "    <tr>\n",
       "      <th>3</th>\n",
       "      <td>1.1</td>\n",
       "      <td>A New Star Approaches</td>\n",
       "      <td>2020-01-12 00:00:00</td>\n",
       "      <td>22/12/2020</td>\n",
       "      <td>Zhongli</td>\n",
       "      <td>0.0</td>\n",
       "      <td>0</td>\n",
       "      <td>0</td>\n",
       "      <td>16264892.0</td>\n",
       "      <td>22.0</td>\n",
       "      <td>7.393133e+05</td>\n",
       "      <td>1</td>\n",
       "      <td>1</td>\n",
       "    </tr>\n",
       "    <tr>\n",
       "      <th>4</th>\n",
       "      <td>1.2</td>\n",
       "      <td>The Chalk Prince and the Dragon</td>\n",
       "      <td>23/12/2020</td>\n",
       "      <td>2021-12-01 00:00:00</td>\n",
       "      <td>Albedo</td>\n",
       "      <td>0.0</td>\n",
       "      <td>0</td>\n",
       "      <td>0</td>\n",
       "      <td>11816107.0</td>\n",
       "      <td>21.0</td>\n",
       "      <td>5.626718e+05</td>\n",
       "      <td>2</td>\n",
       "      <td>2</td>\n",
       "    </tr>\n",
       "  </tbody>\n",
       "</table>\n",
       "</div>"
      ],
      "text/plain": [
       "   Version                     Version Name           Start Date  \\\n",
       "0      1.0                Welcome to Tevyat           25/09/2020   \n",
       "1      1.0                Welcome to Tevyat           20/10/2020   \n",
       "2      1.1            A New Star Approaches  2020-11-11 00:00:00   \n",
       "3      1.1            A New Star Approaches  2020-01-12 00:00:00   \n",
       "4      1.2  The Chalk Prince and the Dragon           23/12/2020   \n",
       "\n",
       "              End Date 5 Star Characters  Rerun  Mixed  Gender     Revenue  \\\n",
       "0           19/10/2020             Venti    0.0      0       0  30632752.0   \n",
       "1  2020-10-11 00:00:00              Klee    0.0      0       1  22750080.0   \n",
       "2           30/11/2020         Tartaglia    0.0      0       0  13443619.0   \n",
       "3           22/12/2020           Zhongli    0.0      0       0  16264892.0   \n",
       "4  2021-12-01 00:00:00            Albedo    0.0      0       0  11816107.0   \n",
       "\n",
       "   Banner Days  Avg Revenue/Day  cluster  cluster2  \n",
       "0         25.0     1.225310e+06        0         0  \n",
       "1         22.0     1.034095e+06        0         0  \n",
       "2         20.0     6.721809e+05        1         1  \n",
       "3         22.0     7.393133e+05        1         1  \n",
       "4         21.0     5.626718e+05        2         2  "
      ]
     },
     "execution_count": 230,
     "metadata": {},
     "output_type": "execute_result"
    }
   ],
   "source": [
    "df['cluster2'] = y_predict2\n",
    "df.head()"
   ]
  },
  {
   "cell_type": "code",
   "execution_count": 231,
   "id": "7cbd8af3",
   "metadata": {},
   "outputs": [
    {
     "data": {
      "image/png": "[encoded data removed]",
      "text/plain": [
       "<Figure size 432x288 with 1 Axes>"
      ]
     },
     "metadata": {
      "needs_background": "light"
     },
     "output_type": "display_data"
    }
   ],
   "source": [
    "# plot the 3 clusters\n",
    "plt.scatter(Gen.iloc[y_predict2 == 0, 0], Gen.iloc[y_predict2 == 0, 1], s=30, c='blue', marker='v', edgecolor='blue', label='Cluster 1')\n",
    "\n",
    "plt.scatter(Gen.iloc[y_predict2 == 1, 0], Gen.iloc[y_predict2 == 1, 1], s=30, c='pink', marker='s', edgecolor='pink', label='Cluster 2')\n",
    "\n",
    "plt.scatter(Gen.iloc[y_predict2 == 2, 0], Gen.iloc[y_predict2 == 2, 1], s=30, c='purple', marker='o', edgecolor='purple', label='Cluster 3')\n",
    "\n",
    "\n",
    "# plot the centroids\n",
    "plt.scatter(km.cluster_centers_[:, 0], km.cluster_centers_[:, 1], s=200, marker='*', c='red', edgecolor='white', label='Centroids')\n",
    "plt.legend(scatterpoints=1)\n",
    "plt.xlabel('Gender')\n",
    "plt.ylabel('Revenue per Banner')\n",
    "\n",
    "plt.grid()\n",
    "plt.show()"
   ]
  },
  {
   "cell_type": "code",
   "execution_count": 243,
   "id": "82a519f4",
   "metadata": {},
   "outputs": [
    {
     "data": {
      "text/html": [
       "<div>\n",
       "<style scoped>\n",
       "    .dataframe tbody tr th:only-of-type {\n",
       "        vertical-align: middle;\n",
       "    }\n",
       "\n",
       "    .dataframe tbody tr th {\n",
       "        vertical-align: top;\n",
       "    }\n",
       "\n",
       "    .dataframe thead th {\n",
       "        text-align: right;\n",
       "    }\n",
       "</style>\n",
       "<table border=\"1\" class=\"dataframe\">\n",
       "  <thead>\n",
       "    <tr style=\"text-align: right;\">\n",
       "      <th></th>\n",
       "      <th>Rerun</th>\n",
       "      <th>Revenue</th>\n",
       "    </tr>\n",
       "  </thead>\n",
       "  <tbody>\n",
       "    <tr>\n",
       "      <th>0</th>\n",
       "      <td>0.0</td>\n",
       "      <td>30632752.0</td>\n",
       "    </tr>\n",
       "    <tr>\n",
       "      <th>1</th>\n",
       "      <td>0.0</td>\n",
       "      <td>22750080.0</td>\n",
       "    </tr>\n",
       "    <tr>\n",
       "      <th>2</th>\n",
       "      <td>0.0</td>\n",
       "      <td>13443619.0</td>\n",
       "    </tr>\n",
       "    <tr>\n",
       "      <th>3</th>\n",
       "      <td>0.0</td>\n",
       "      <td>16264892.0</td>\n",
       "    </tr>\n",
       "    <tr>\n",
       "      <th>4</th>\n",
       "      <td>0.0</td>\n",
       "      <td>11816107.0</td>\n",
       "    </tr>\n",
       "  </tbody>\n",
       "</table>\n",
       "</div>"
      ],
      "text/plain": [
       "   Rerun     Revenue\n",
       "0    0.0  30632752.0\n",
       "1    0.0  22750080.0\n",
       "2    0.0  13443619.0\n",
       "3    0.0  16264892.0\n",
       "4    0.0  11816107.0"
      ]
     },
     "execution_count": 243,
     "metadata": {},
     "output_type": "execute_result"
    }
   ],
   "source": [
    "Run= df[['Rerun','Revenue']]\n",
    "Run.head()"
   ]
  },
  {
   "cell_type": "code",
   "execution_count": 249,
   "id": "3d33989d",
   "metadata": {},
   "outputs": [
    {
     "data": {
      "image/png": "[encoded data removed]",
      "text/plain": [
       "<Figure size 432x288 with 1 Axes>"
      ]
     },
     "metadata": {
      "needs_background": "light"
     },
     "output_type": "display_data"
    }
   ],
   "source": [
    "#plotting the data\n",
    "plt.scatter(Run.iloc[:, 0], Run.iloc[:, 1], c='pink', marker='o', edgecolor='black', s=10)\n",
    "plt.show()"
   ]
  },
  {
   "cell_type": "code",
   "execution_count": 250,
   "id": "ce79052b",
   "metadata": {},
   "outputs": [
    {
     "data": {
      "text/plain": [
       "array([0, 0, 1, 1, 2, 1, 1, 2, 1, 1, 2, 2, 1, 2, 2, 1, 2, 0, 2, 2, 0, 1,\n",
       "       1, 1, 0, 1, 0, 0, 0, 0, 1, 0, 1, 1, 1, 1, 1, 0, 1])"
      ]
     },
     "execution_count": 250,
     "metadata": {},
     "output_type": "execute_result"
    }
   ],
   "source": [
    "#training K-Means clustering\n",
    "km = KMeans(n_clusters=3, init='k-means++',n_init=10, max_iter=300,tol=1e-04, random_state=0)\n",
    "y_predict3 = km.fit_predict(Run)\n",
    "y_predict3"
   ]
  },
  {
   "cell_type": "code",
   "execution_count": 251,
   "id": "daf020c4",
   "metadata": {},
   "outputs": [
    {
     "data": {
      "text/plain": [
       "<matplotlib.collections.PathCollection at 0x25a85cc5ee0>"
      ]
     },
     "execution_count": 251,
     "metadata": {},
     "output_type": "execute_result"
    },
    {
     "data": {
      "image/png": "[encoded data removed]",
      "text/plain": [
       "<Figure size 432x288 with 1 Axes>"
      ]
     },
     "metadata": {
      "needs_background": "light"
     },
     "output_type": "display_data"
    }
   ],
   "source": [
    "#plotting the trained K-Means clustering\n",
    "plt.scatter(Run.iloc[:,0],Run.iloc[:,1],c=y_predict3)"
   ]
  },
  {
   "cell_type": "code",
   "execution_count": 252,
   "id": "44d397d1",
   "metadata": {},
   "outputs": [
    {
     "data": {
      "text/html": [
       "<div>\n",
       "<style scoped>\n",
       "    .dataframe tbody tr th:only-of-type {\n",
       "        vertical-align: middle;\n",
       "    }\n",
       "\n",
       "    .dataframe tbody tr th {\n",
       "        vertical-align: top;\n",
       "    }\n",
       "\n",
       "    .dataframe thead th {\n",
       "        text-align: right;\n",
       "    }\n",
       "</style>\n",
       "<table border=\"1\" class=\"dataframe\">\n",
       "  <thead>\n",
       "    <tr style=\"text-align: right;\">\n",
       "      <th></th>\n",
       "      <th>Version</th>\n",
       "      <th>Version Name</th>\n",
       "      <th>Start Date</th>\n",
       "      <th>End Date</th>\n",
       "      <th>5 Star Characters</th>\n",
       "      <th>Rerun</th>\n",
       "      <th>Mixed</th>\n",
       "      <th>Gender</th>\n",
       "      <th>Revenue</th>\n",
       "      <th>Banner Days</th>\n",
       "      <th>Avg Revenue/Day</th>\n",
       "      <th>cluster</th>\n",
       "      <th>cluster2</th>\n",
       "      <th>cluster3</th>\n",
       "    </tr>\n",
       "  </thead>\n",
       "  <tbody>\n",
       "    <tr>\n",
       "      <th>0</th>\n",
       "      <td>1.0</td>\n",
       "      <td>Welcome to Tevyat</td>\n",
       "      <td>25/09/2020</td>\n",
       "      <td>19/10/2020</td>\n",
       "      <td>Venti</td>\n",
       "      <td>0.0</td>\n",
       "      <td>0</td>\n",
       "      <td>0</td>\n",
       "      <td>30632752.0</td>\n",
       "      <td>25.0</td>\n",
       "      <td>1.225310e+06</td>\n",
       "      <td>0</td>\n",
       "      <td>0</td>\n",
       "      <td>0</td>\n",
       "    </tr>\n",
       "    <tr>\n",
       "      <th>1</th>\n",
       "      <td>1.0</td>\n",
       "      <td>Welcome to Tevyat</td>\n",
       "      <td>20/10/2020</td>\n",
       "      <td>2020-10-11 00:00:00</td>\n",
       "      <td>Klee</td>\n",
       "      <td>0.0</td>\n",
       "      <td>0</td>\n",
       "      <td>1</td>\n",
       "      <td>22750080.0</td>\n",
       "      <td>22.0</td>\n",
       "      <td>1.034095e+06</td>\n",
       "      <td>0</td>\n",
       "      <td>0</td>\n",
       "      <td>0</td>\n",
       "    </tr>\n",
       "    <tr>\n",
       "      <th>2</th>\n",
       "      <td>1.1</td>\n",
       "      <td>A New Star Approaches</td>\n",
       "      <td>2020-11-11 00:00:00</td>\n",
       "      <td>30/11/2020</td>\n",
       "      <td>Tartaglia</td>\n",
       "      <td>0.0</td>\n",
       "      <td>0</td>\n",
       "      <td>0</td>\n",
       "      <td>13443619.0</td>\n",
       "      <td>20.0</td>\n",
       "      <td>6.721809e+05</td>\n",
       "      <td>1</td>\n",
       "      <td>1</td>\n",
       "      <td>1</td>\n",
       "    </tr>\n",
       "    <tr>\n",
       "      <th>3</th>\n",
       "      <td>1.1</td>\n",
       "      <td>A New Star Approaches</td>\n",
       "      <td>2020-01-12 00:00:00</td>\n",
       "      <td>22/12/2020</td>\n",
       "      <td>Zhongli</td>\n",
       "      <td>0.0</td>\n",
       "      <td>0</td>\n",
       "      <td>0</td>\n",
       "      <td>16264892.0</td>\n",
       "      <td>22.0</td>\n",
       "      <td>7.393133e+05</td>\n",
       "      <td>1</td>\n",
       "      <td>1</td>\n",
       "      <td>1</td>\n",
       "    </tr>\n",
       "    <tr>\n",
       "      <th>4</th>\n",
       "      <td>1.2</td>\n",
       "      <td>The Chalk Prince and the Dragon</td>\n",
       "      <td>23/12/2020</td>\n",
       "      <td>2021-12-01 00:00:00</td>\n",
       "      <td>Albedo</td>\n",
       "      <td>0.0</td>\n",
       "      <td>0</td>\n",
       "      <td>0</td>\n",
       "      <td>11816107.0</td>\n",
       "      <td>21.0</td>\n",
       "      <td>5.626718e+05</td>\n",
       "      <td>2</td>\n",
       "      <td>2</td>\n",
       "      <td>2</td>\n",
       "    </tr>\n",
       "  </tbody>\n",
       "</table>\n",
       "</div>"
      ],
      "text/plain": [
       "   Version                     Version Name           Start Date  \\\n",
       "0      1.0                Welcome to Tevyat           25/09/2020   \n",
       "1      1.0                Welcome to Tevyat           20/10/2020   \n",
       "2      1.1            A New Star Approaches  2020-11-11 00:00:00   \n",
       "3      1.1            A New Star Approaches  2020-01-12 00:00:00   \n",
       "4      1.2  The Chalk Prince and the Dragon           23/12/2020   \n",
       "\n",
       "              End Date 5 Star Characters  Rerun  Mixed  Gender     Revenue  \\\n",
       "0           19/10/2020             Venti    0.0      0       0  30632752.0   \n",
       "1  2020-10-11 00:00:00              Klee    0.0      0       1  22750080.0   \n",
       "2           30/11/2020         Tartaglia    0.0      0       0  13443619.0   \n",
       "3           22/12/2020           Zhongli    0.0      0       0  16264892.0   \n",
       "4  2021-12-01 00:00:00            Albedo    0.0      0       0  11816107.0   \n",
       "\n",
       "   Banner Days  Avg Revenue/Day  cluster  cluster2  cluster3  \n",
       "0         25.0     1.225310e+06        0         0         0  \n",
       "1         22.0     1.034095e+06        0         0         0  \n",
       "2         20.0     6.721809e+05        1         1         1  \n",
       "3         22.0     7.393133e+05        1         1         1  \n",
       "4         21.0     5.626718e+05        2         2         2  "
      ]
     },
     "execution_count": 252,
     "metadata": {},
     "output_type": "execute_result"
    }
   ],
   "source": [
    "df['cluster3'] = y_predict3\n",
    "df.head()"
   ]
  },
  {
   "cell_type": "code",
   "execution_count": 253,
   "id": "7913f38f",
   "metadata": {},
   "outputs": [
    {
     "data": {
      "image/png": "[encoded data removed]",
      "text/plain": [
       "<Figure size 432x288 with 1 Axes>"
      ]
     },
     "metadata": {
      "needs_background": "light"
     },
     "output_type": "display_data"
    }
   ],
   "source": [
    "# plot the 3 clusters\n",
    "plt.scatter(Run.iloc[y_predict3 == 0, 0], Run.iloc[y_predict3 == 0, 1], s=30, c='blue', marker='v', edgecolor='blue', label='Cluster 1')\n",
    "\n",
    "plt.scatter(Run.iloc[y_predict3 == 1, 0], Run.iloc[y_predict3 == 1, 1], s=30, c='pink', marker='s', edgecolor='pink', label='Cluster 2')\n",
    "\n",
    "plt.scatter(Run.iloc[y_predict3 == 2, 0], Run.iloc[y_predict2 == 2, 1], s=30, c='purple', marker='o', edgecolor='purple', label='Cluster 3')\n",
    "\n",
    "\n",
    "# plot the centroids\n",
    "plt.scatter(km.cluster_centers_[:, 0], km.cluster_centers_[:, 1], s=200, marker='*', c='red', edgecolor='white', label='Centroids')\n",
    "plt.legend(scatterpoints=1)\n",
    "plt.xlabel('Rerun')\n",
    "plt.ylabel('Revenue per Banner')\n",
    "\n",
    "plt.grid()\n",
    "plt.show()"
   ]
  },
  {
   "cell_type": "code",
   "execution_count": 205,
   "id": "cbe65254",
   "metadata": {},
   "outputs": [
    {
     "data": {
      "image/png": "[encoded data removed]",
      "text/plain": [
       "<Figure size 720x360 with 1 Axes>"
      ]
     },
     "metadata": {
      "needs_background": "light"
     },
     "output_type": "display_data"
    }
   ],
   "source": [
    "linkage_data = linkage(data, method='ward', metric='euclidean') #Create linkage and calculate eucl\n",
    "plt.figure(figsize=(10,5))\n",
    "\n",
    "dendrogram(linkage_data)\n",
    "plt.show()"
   ]
  },
  {
   "cell_type": "code",
   "execution_count": 206,
   "id": "dbf518e6",
   "metadata": {},
   "outputs": [
    {
     "name": "stdout",
     "output_type": "stream",
     "text": [
      "[[5.00000000e+00 3.40000000e+01 1.19220003e+04 2.00000000e+00]\n",
      " [1.30000000e+01 1.80000000e+01 1.47950001e+04 2.00000000e+00]\n",
      " [3.30000000e+01 3.50000000e+01 1.63490000e+04 2.00000000e+00]\n",
      " [1.00000000e+00 2.70000000e+01 1.73750002e+04 2.00000000e+00]\n",
      " [2.10000000e+01 2.30000000e+01 3.16600000e+04 2.00000000e+00]\n",
      " [1.20000000e+01 3.00000000e+01 3.26260000e+04 2.00000000e+00]\n",
      " [2.00000000e+00 2.20000000e+01 3.95470001e+04 2.00000000e+00]\n",
      " [1.00000000e+01 4.00000000e+01 5.55786237e+04 3.00000000e+00]\n",
      " [3.60000000e+01 3.90000000e+01 6.44334449e+04 3.00000000e+00]\n",
      " [8.00000000e+00 4.40000000e+01 1.40230298e+05 3.00000000e+00]\n",
      " [9.00000000e+00 1.50000000e+01 1.63203000e+05 2.00000000e+00]\n",
      " [7.00000000e+00 1.40000000e+01 3.01314000e+05 2.00000000e+00]\n",
      " [3.00000000e+00 4.90000000e+01 3.09131232e+05 3.00000000e+00]\n",
      " [6.00000000e+00 4.50000000e+01 3.21850258e+05 3.00000000e+00]\n",
      " [2.50000000e+01 3.80000000e+01 3.50952000e+05 2.00000000e+00]\n",
      " [2.00000000e+01 2.90000000e+01 3.85741000e+05 2.00000000e+00]\n",
      " [2.60000000e+01 3.70000000e+01 4.57031000e+05 2.00000000e+00]\n",
      " [1.10000000e+01 5.00000000e+01 6.45142738e+05 3.00000000e+00]\n",
      " [3.20000000e+01 5.30000000e+01 6.94577777e+05 3.00000000e+00]\n",
      " [3.10000000e+01 5.40000000e+01 7.05918669e+05 3.00000000e+00]\n",
      " [1.60000000e+01 1.90000000e+01 8.29706000e+05 2.00000000e+00]\n",
      " [4.30000000e+01 5.10000000e+01 8.78186580e+05 5.00000000e+00]\n",
      " [1.70000000e+01 5.50000000e+01 8.86659325e+05 3.00000000e+00]\n",
      " [4.00000000e+00 4.80000000e+01 9.14258574e+05 4.00000000e+00]\n",
      " [4.70000000e+01 5.70000000e+01 1.66311288e+06 6.00000000e+00]\n",
      " [5.20000000e+01 6.20000000e+01 1.76824526e+06 7.00000000e+00]\n",
      " [4.60000000e+01 5.90000000e+01 1.86330417e+06 5.00000000e+00]\n",
      " [2.40000000e+01 5.80000000e+01 1.91581533e+06 4.00000000e+00]\n",
      " [2.80000000e+01 6.10000000e+01 2.94703990e+06 4.00000000e+00]\n",
      " [6.00000000e+01 6.30000000e+01 3.39986635e+06 1.10000000e+01]\n",
      " [0.00000000e+00 6.70000000e+01 4.42924800e+06 5.00000000e+00]\n",
      " [5.60000000e+01 6.50000000e+01 4.57797334e+06 8.00000000e+00]\n",
      " [4.20000000e+01 6.60000000e+01 4.65131648e+06 6.00000000e+00]\n",
      " [4.10000000e+01 6.80000000e+01 5.85792771e+06 1.30000000e+01]\n",
      " [6.40000000e+01 7.20000000e+01 1.08016123e+07 2.00000000e+01]\n",
      " [6.90000000e+01 7.10000000e+01 2.04972425e+07 1.10000000e+01]\n",
      " [7.00000000e+01 7.30000000e+01 2.28108507e+07 2.80000000e+01]\n",
      " [7.40000000e+01 7.50000000e+01 6.14506606e+07 3.90000000e+01]]\n"
     ]
    }
   ],
   "source": [
    "print(linkage_data) #(Cluster, Cluster, Euclean Distance, Singletons)"
   ]
  }
 ],
 "metadata": {
  "kernelspec": {
   "display_name": "Python 3 (ipykernel)",
   "language": "python",
   "name": "python3"
  },
  "language_info": {
   "codemirror_mode": {
    "name": "ipython",
    "version": 3
   },
   "file_extension": ".py",
   "mimetype": "text/x-python",
   "name": "python",
   "nbconvert_exporter": "python",
   "pygments_lexer": "ipython3",
   "version": "3.9.12"
  }
 },
 "nbformat": 4,
 "nbformat_minor": 5
}
