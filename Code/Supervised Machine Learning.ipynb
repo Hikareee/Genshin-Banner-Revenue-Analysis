{
 "cells": [
  {
   "cell_type": "code",
   "execution_count": 3,
   "id": "460e86a8-068c-4e30-b90b-34e0597b961d",
   "metadata": {},
   "outputs": [],
   "source": [
    "import pandas as pd\n",
    "import numpy as np\n",
    "import matplotlib.pyplot as plt\n",
    "from scipy import stats\n",
    "\n",
    "from sklearn.svm import  SVC\n",
    "from sklearn.metrics import accuracy_score as ac\n",
    "from sklearn.model_selection import cross_val_score\n",
    "from sklearn.ensemble import RandomForestClassifier\n",
    "from sklearn.model_selection import train_test_split\n",
    "from sklearn.linear_model import LinearRegression"
   ]
  },
  {
   "cell_type": "code",
   "execution_count": 4,
   "id": "f7f5577c-4d16-4bd2-b741-a5f0f062bf1a",
   "metadata": {},
   "outputs": [],
   "source": [
    "df=pd.read_excel(\"Genshin Impact Revenue.xlsx\") #Dataset\n",
    "df.dropna(inplace=True)\n",
    "\n",
    "#Revenue class is divided into 'Above average' (revenue > average revenue), 'Below average'\n",
    "df[\"Revenue Class\"] = np.where(df[\"Revenue\"]>df[\"Revenue\"].mean(), \"Above Average\", \"Below Average\")\n",
    "\n",
    "#Assign variables\n",
    "X=df.iloc[:,[0,5,6,9]]\n",
    "y=df.loc[:,'Revenue Class']"
   ]
  },
  {
   "cell_type": "code",
   "execution_count": 5,
   "id": "7018b4a7-6e59-40db-b808-452987350768",
   "metadata": {},
   "outputs": [
    {
     "name": "stdout",
     "output_type": "stream",
     "text": [
      "Accuracy = 0.9743589743589743\n",
      "Cv Result = [0.625      0.625      0.625      0.375      0.42857143]\n",
      "Cv Result Mean = 0.5357142857142857\n"
     ]
    }
   ],
   "source": [
    "#SVM Settings\n",
    "svm = SVC(kernel='rbf', random_state=1, gamma=2.0, C=20.8)\n",
    "\n",
    "#Train the model\n",
    "svm.fit(X, y)\n",
    "\n",
    "#Predict X\n",
    "y_pred=svm.predict(X)\n",
    "\n",
    "print(\"Accuracy =\", ac(y, y_pred))\n",
    "cv_results = cross_val_score(svm, X, y, cv=5)\n",
    "print(\"Cv Result =\", cv_results)\n",
    "print(\"Cv Result Mean =\", np.mean(cv_results))"
   ]
  },
  {
   "cell_type": "code",
   "execution_count": 6,
   "id": "c954bdfb-866b-45ac-8abc-96b40b4f4448",
   "metadata": {},
   "outputs": [
    {
     "name": "stdout",
     "output_type": "stream",
     "text": [
      "Accuracy = 0.8461538461538461\n",
      "Cv Result = [0.625      0.625      0.875      0.5        0.42857143]\n",
      "Cv Result Mean = 0.6107142857142857\n"
     ]
    }
   ],
   "source": [
    "#Random Forest Classifier Settings\n",
    "clf = RandomForestClassifier(max_depth=2, random_state=0)\n",
    "\n",
    "#Train the model\n",
    "clf.fit(X, y)\n",
    "\n",
    "#Predict X\n",
    "y_pred=clf.predict(X)\n",
    "\n",
    "print(\"Accuracy =\", ac(y, y_pred))\n",
    "cv_results = cross_val_score(clf, X, y, cv=5)\n",
    "print(\"Cv Result =\", cv_results)\n",
    "print(\"Cv Result Mean =\", np.mean(cv_results))"
   ]
  },
  {
   "cell_type": "code",
   "execution_count": 13,
   "id": "26fc8564-1596-456c-9a10-836c4c085070",
   "metadata": {},
   "outputs": [
    {
     "data": {
      "image/png": "[encoded data removed]",
      "text/plain": [
       "<Figure size 360x360 with 1 Axes>"
      ]
     },
     "metadata": {
      "needs_background": "light"
     },
     "output_type": "display_data"
    }
   ],
   "source": [
    "# Plotting mixed banners vs length of each banner\n",
    "# if it's a mixed banner = 1, if not = 0\n",
    "fig, plot = plt.subplots(figsize=(5,5))\n",
    "\n",
    "x2 = df[[\"Banner Days\", \"Revenue Class\"]]\n",
    "y2 = df[[\"Mixed\", \"Revenue Class\"]]\n",
    "z2 = df[\"Revenue Class\"]\n",
    "\n",
    "plot.scatter(x2[x2[\"Revenue Class\"]== \"Above Average\"][\"Banner Days\"], y2[y2[\"Revenue Class\"]== \"Above Average\"][\"Mixed\"], color = \"green\", label = \"Above Average\")\n",
    "plot.scatter(x2[x2[\"Revenue Class\"]== \"Below Average\"][\"Banner Days\"], y2[y2[\"Revenue Class\"]== \"Below Average\"][\"Mixed\"], color = \"red\", label = \"Below Average\")\n",
    "plot.legend()\n",
    "\n",
    "plot.set_xlabel(\"Banner Days\")\n",
    "plot.set_ylabel(\"Mixed Banners\")\n",
    "plot.set_title(\"Revenue Classified by Type & Length of Banner Days\")\n",
    "\n",
    "plt.show()"
   ]
  },
  {
   "cell_type": "code",
   "execution_count": 9,
   "id": "f8f69519-424d-4e24-b94b-c1d4aaefdd2f",
   "metadata": {},
   "outputs": [
    {
     "data": {
      "text/plain": [
       "19    Below Average\n",
       "17    Above Average\n",
       "32    Below Average\n",
       "4     Below Average\n",
       "13    Below Average\n",
       "2     Below Average\n",
       "23    Below Average\n",
       "15    Below Average\n",
       "16    Below Average\n",
       "21    Below Average\n",
       "35    Above Average\n",
       "20    Above Average\n",
       "8     Below Average\n",
       "30    Below Average\n",
       "9     Below Average\n",
       "7     Below Average\n",
       "6     Below Average\n",
       "5     Below Average\n",
       "11    Below Average\n",
       "3     Below Average\n",
       "Name: Revenue Class, dtype: object"
      ]
     },
     "execution_count": 9,
     "metadata": {},
     "output_type": "execute_result"
    }
   ],
   "source": [
    "#Train test split\n",
    "\n",
    "#Assigning variable\n",
    "x3 = df[\"Revenue\"]\n",
    "y3 = df[\"Revenue Class\"]\n",
    "\n",
    "#Dividing it into train set data and test set data.\n",
    "x_train, x_test, y_train, y_test = train_test_split(x3, y3, test_size = 0.5, random_state = 9)\n",
    "\n",
    "#Checking the train and test data\n",
    "x_train\n",
    "y_train\n",
    "x_test\n",
    "y_test"
   ]
  },
  {
   "cell_type": "code",
   "execution_count": 10,
   "id": "3b39e028-cffd-4f42-802e-bef76911406f",
   "metadata": {},
   "outputs": [
    {
     "data": {
      "image/png": "[encoded data removed]",
      "text/plain": [
       "<Figure size 360x360 with 1 Axes>"
      ]
     },
     "metadata": {
      "needs_background": "light"
     },
     "output_type": "display_data"
    }
   ],
   "source": [
    "#Linear Regression Revenue vs Banner Days\n",
    "\n",
    "#Assign variables\n",
    "x4 = df[\"Revenue\"]\n",
    "y4 = df[\"Banner Days\"] \n",
    "\n",
    "#Returns some important key values of Linear Regression\n",
    "slope, intercept, r, p, std_err = stats.linregress(x4, y4)\n",
    "\n",
    "#Calculate where on the y-axis the corresponding x value will be placed\n",
    "def y_axis(x4):\n",
    "  return slope * x4 + intercept\n",
    "\n",
    "#New array with new values for the y-axis\n",
    "model = list(map(y_axis, x4))\n",
    "\n",
    "#Graph with Linear Regression\n",
    "fig, plot = plt.subplots(figsize=(5,5))\n",
    "plt.scatter(x4, y4)\n",
    "plt.plot(x4, model)\n",
    "\n",
    "#Labeling\n",
    "plot.set_xlabel(\"Revenue\")\n",
    "plot.set_ylabel(\"Banner Days\")\n",
    "plot.set_title(\"Linear Regression Revenue vs Banner Days\")\n",
    "\n",
    "plt.show()"
   ]
  },
  {
   "cell_type": "code",
   "execution_count": 11,
   "id": "304dc6e2-97bc-4b66-92df-ca2c4b6df9ab",
   "metadata": {},
   "outputs": [
    {
     "data": {
      "image/png": "[encoded data removed]",
      "text/plain": [
       "<Figure size 360x360 with 1 Axes>"
      ]
     },
     "metadata": {
      "needs_background": "light"
     },
     "output_type": "display_data"
    }
   ],
   "source": [
    "#Linear Regression Revenue vs Mixed Banners\n",
    "\n",
    "#Assign variables\n",
    "df.Gender = df.Gender.astype(int, copy=False)\n",
    "x5 = df[\"Revenue\"]\n",
    "y5 = df[\"Gender\"] \n",
    "\n",
    "#Returns some important key values of Linear Regression\n",
    "slope, intercept, r, p, std_err = stats.linregress(x5, y5)\n",
    "\n",
    "#Calculate where on the y-axis the corresponding x value will be placed\n",
    "def y_axis(x5):\n",
    "  return slope * x5 + intercept\n",
    "\n",
    "#New array with new values for the y-axis\n",
    "model = list(map(y_axis, x5))\n",
    "\n",
    "#Graph with Linear Regression\n",
    "fig, plot = plt.subplots(figsize=(5,5))\n",
    "plt.scatter(x5, y5)\n",
    "plt.plot(x5, model)\n",
    "\n",
    "#Labeling\n",
    "plot.set_xlabel(\"Revenue\")\n",
    "plot.set_ylabel(\"Gender\")\n",
    "plot.set_title(\"Linear Regression Revenue vs Gender\")\n",
    "\n",
    "plt.show()"
   ]
  },
  {
   "cell_type": "code",
   "execution_count": 12,
   "id": "f2be0e2d-179d-4045-ae92-6302bff09456",
   "metadata": {},
   "outputs": [
    {
     "data": {
      "image/png": "[encoded data removed]",
      "text/plain": [
       "<Figure size 360x360 with 1 Axes>"
      ]
     },
     "metadata": {
      "needs_background": "light"
     },
     "output_type": "display_data"
    }
   ],
   "source": [
    "#Linear Regression Revenue vs Mixed Banners\n",
    "\n",
    "#Assign variables\n",
    "x6 = df[\"Revenue\"]\n",
    "y6 = df[\"Rerun\"] \n",
    "\n",
    "#Returns some important key values of Linear Regression\n",
    "slope, intercept, r, p, std_err = stats.linregress(x6, y6)\n",
    "\n",
    "#Calculate where on the y-axis the corresponding x value will be placed\n",
    "def y_axis(x6):\n",
    "  return slope * x6 + intercept\n",
    "\n",
    "#New array with new values for the y-axis\n",
    "model = list(map(y_axis, x6))\n",
    "\n",
    "#Graph with Linear Regression\n",
    "fig, plot = plt.subplots(figsize=(5,5))\n",
    "plt.scatter(x6, y6)\n",
    "plt.plot(x6, model)\n",
    "\n",
    "#Labeling\n",
    "plot.set_xlabel(\"Revenue\")\n",
    "plot.set_ylabel(\"Rerun\")\n",
    "plot.set_title(\"Linear Regression Revenue vs Rerun\")\n",
    "\n",
    "plt.show()"
   ]
  }
 ],
 "metadata": {
  "kernelspec": {
   "display_name": "Python 3 (ipykernel)",
   "language": "python",
   "name": "python3"
  },
  "language_info": {
   "codemirror_mode": {
    "name": "ipython",
    "version": 3
   },
   "file_extension": ".py",
   "mimetype": "text/x-python",
   "name": "python",
   "nbconvert_exporter": "python",
   "pygments_lexer": "ipython3",
   "version": "3.9.12"
  }
 },
 "nbformat": 4,
 "nbformat_minor": 5
}
