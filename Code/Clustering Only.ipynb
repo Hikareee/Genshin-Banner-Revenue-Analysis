{
 "cells": [
  {
   "cell_type": "code",
   "execution_count": 172,
   "id": "f6e455a3",
   "metadata": {},
   "outputs": [
    {
     "name": "stdout",
     "output_type": "stream",
     "text": [
      "Requirement already satisfied: kneed in c:\\users\\tiffa\\anaconda3\\lib\\site-packages (0.8.1)\n",
      "Requirement already satisfied: scipy>=1.0.0 in c:\\users\\tiffa\\anaconda3\\lib\\site-packages (from kneed) (1.7.3)\n",
      "Requirement already satisfied: numpy>=1.14.2 in c:\\users\\tiffa\\anaconda3\\lib\\site-packages (from kneed) (1.21.5)\n"
     ]
    }
   ],
   "source": [
    "!pip install kneed\n",
    "import seaborn as sn\n",
    "import pandas as pd\n",
    "import numpy as np\n",
    "import matplotlib.pyplot as plt\n",
    "from kneed import KneeLocator\n",
    "from sklearn.cluster import KMeans\n",
    "from sklearn.datasets import make_blobs\n",
    "from sklearn.metrics import silhouette_score\n",
    "from sklearn.cluster import MeanShift, estimate_bandwidth\n",
    "from scipy.cluster.hierarchy import dendrogram, linkage"
   ]
  },
  {
   "cell_type": "code",
   "execution_count": 173,
   "id": "126fe229",
   "metadata": {
    "scrolled": true
   },
   "outputs": [
    {
     "name": "stdout",
     "output_type": "stream",
     "text": [
      "Version              float64\n",
      "Version Name          object\n",
      "Start Date            object\n",
      "End Date              object\n",
      "5 Star Characters     object\n",
      "Rerun                float64\n",
      "Mixed                  int32\n",
      "Gender                 int32\n",
      "Revenue              float64\n",
      "Banner Days          float64\n",
      "Avg Revenue/Day      float64\n",
      "cluster4               int32\n",
      "dtype: object\n"
     ]
    }
   ],
   "source": [
    "#making sure revenue data type is in float\n",
    "print(df.dtypes)"
   ]
  },
  {
   "cell_type": "code",
   "execution_count": 174,
   "id": "02501cf6",
   "metadata": {},
   "outputs": [
    {
     "name": "stdout",
     "output_type": "stream",
     "text": [
      "<class 'pandas.core.frame.DataFrame'>\n",
      "Int64Index: 39 entries, 0 to 38\n",
      "Data columns (total 12 columns):\n",
      " #   Column             Non-Null Count  Dtype  \n",
      "---  ------             --------------  -----  \n",
      " 0   Version            39 non-null     float64\n",
      " 1   Version Name       39 non-null     object \n",
      " 2   Start Date         39 non-null     object \n",
      " 3   End Date           39 non-null     object \n",
      " 4   5 Star Characters  39 non-null     object \n",
      " 5   Rerun              39 non-null     float64\n",
      " 6   Mixed              39 non-null     int32  \n",
      " 7   Gender             39 non-null     int32  \n",
      " 8   Revenue            39 non-null     float64\n",
      " 9   Banner Days        39 non-null     float64\n",
      " 10  Avg Revenue/Day    39 non-null     float64\n",
      " 11  cluster4           39 non-null     int32  \n",
      "dtypes: float64(5), int32(3), object(4)\n",
      "memory usage: 3.5+ KB\n"
     ]
    }
   ],
   "source": [
    "#Change data type\n",
    "df.Mixed = df.Mixed.astype(int, copy=False)\n",
    "df.Gender = df.Gender.astype(int, copy=False)\n",
    "df.info()"
   ]
  },
  {
   "cell_type": "code",
   "execution_count": 175,
   "id": "e72cec52",
   "metadata": {},
   "outputs": [
    {
     "data": {
      "text/html": [
       "<div>\n",
       "<style scoped>\n",
       "    .dataframe tbody tr th:only-of-type {\n",
       "        vertical-align: middle;\n",
       "    }\n",
       "\n",
       "    .dataframe tbody tr th {\n",
       "        vertical-align: top;\n",
       "    }\n",
       "\n",
       "    .dataframe thead th {\n",
       "        text-align: right;\n",
       "    }\n",
       "</style>\n",
       "<table border=\"1\" class=\"dataframe\">\n",
       "  <thead>\n",
       "    <tr style=\"text-align: right;\">\n",
       "      <th></th>\n",
       "      <th>Gender</th>\n",
       "      <th>Revenue</th>\n",
       "    </tr>\n",
       "  </thead>\n",
       "  <tbody>\n",
       "    <tr>\n",
       "      <th>0</th>\n",
       "      <td>0</td>\n",
       "      <td>30632752.0</td>\n",
       "    </tr>\n",
       "    <tr>\n",
       "      <th>1</th>\n",
       "      <td>1</td>\n",
       "      <td>22750080.0</td>\n",
       "    </tr>\n",
       "    <tr>\n",
       "      <th>2</th>\n",
       "      <td>0</td>\n",
       "      <td>13443619.0</td>\n",
       "    </tr>\n",
       "    <tr>\n",
       "      <th>3</th>\n",
       "      <td>0</td>\n",
       "      <td>16264892.0</td>\n",
       "    </tr>\n",
       "    <tr>\n",
       "      <th>4</th>\n",
       "      <td>0</td>\n",
       "      <td>11816107.0</td>\n",
       "    </tr>\n",
       "  </tbody>\n",
       "</table>\n",
       "</div>"
      ],
      "text/plain": [
       "   Gender     Revenue\n",
       "0       0  30632752.0\n",
       "1       1  22750080.0\n",
       "2       0  13443619.0\n",
       "3       0  16264892.0\n",
       "4       0  11816107.0"
      ]
     },
     "execution_count": 175,
     "metadata": {},
     "output_type": "execute_result"
    }
   ],
   "source": [
    "Gen= df[['Gender','Revenue']]\n",
    "Gen.head()"
   ]
  },
  {
   "cell_type": "code",
   "execution_count": 188,
   "id": "fd802e14",
   "metadata": {},
   "outputs": [
    {
     "data": {
      "text/html": [
       "<div>\n",
       "<style scoped>\n",
       "    .dataframe tbody tr th:only-of-type {\n",
       "        vertical-align: middle;\n",
       "    }\n",
       "\n",
       "    .dataframe tbody tr th {\n",
       "        vertical-align: top;\n",
       "    }\n",
       "\n",
       "    .dataframe thead th {\n",
       "        text-align: right;\n",
       "    }\n",
       "</style>\n",
       "<table border=\"1\" class=\"dataframe\">\n",
       "  <thead>\n",
       "    <tr style=\"text-align: right;\">\n",
       "      <th></th>\n",
       "      <th>Rerun</th>\n",
       "      <th>Revenue</th>\n",
       "    </tr>\n",
       "  </thead>\n",
       "  <tbody>\n",
       "    <tr>\n",
       "      <th>0</th>\n",
       "      <td>0.0</td>\n",
       "      <td>30632752.0</td>\n",
       "    </tr>\n",
       "    <tr>\n",
       "      <th>1</th>\n",
       "      <td>0.0</td>\n",
       "      <td>22750080.0</td>\n",
       "    </tr>\n",
       "    <tr>\n",
       "      <th>2</th>\n",
       "      <td>0.0</td>\n",
       "      <td>13443619.0</td>\n",
       "    </tr>\n",
       "    <tr>\n",
       "      <th>3</th>\n",
       "      <td>0.0</td>\n",
       "      <td>16264892.0</td>\n",
       "    </tr>\n",
       "    <tr>\n",
       "      <th>4</th>\n",
       "      <td>0.0</td>\n",
       "      <td>11816107.0</td>\n",
       "    </tr>\n",
       "  </tbody>\n",
       "</table>\n",
       "</div>"
      ],
      "text/plain": [
       "   Rerun     Revenue\n",
       "0    0.0  30632752.0\n",
       "1    0.0  22750080.0\n",
       "2    0.0  13443619.0\n",
       "3    0.0  16264892.0\n",
       "4    0.0  11816107.0"
      ]
     },
     "execution_count": 188,
     "metadata": {},
     "output_type": "execute_result"
    }
   ],
   "source": [
    "Run= df[['Rerun','Revenue']]\n",
    "Run.head()"
   ]
  },
  {
   "cell_type": "code",
   "execution_count": 195,
   "id": "38725ee3",
   "metadata": {},
   "outputs": [
    {
     "data": {
      "text/html": [
       "<div>\n",
       "<style scoped>\n",
       "    .dataframe tbody tr th:only-of-type {\n",
       "        vertical-align: middle;\n",
       "    }\n",
       "\n",
       "    .dataframe tbody tr th {\n",
       "        vertical-align: top;\n",
       "    }\n",
       "\n",
       "    .dataframe thead th {\n",
       "        text-align: right;\n",
       "    }\n",
       "</style>\n",
       "<table border=\"1\" class=\"dataframe\">\n",
       "  <thead>\n",
       "    <tr style=\"text-align: right;\">\n",
       "      <th></th>\n",
       "      <th>Mixed</th>\n",
       "      <th>Revenue</th>\n",
       "    </tr>\n",
       "  </thead>\n",
       "  <tbody>\n",
       "    <tr>\n",
       "      <th>0</th>\n",
       "      <td>0</td>\n",
       "      <td>30632752.0</td>\n",
       "    </tr>\n",
       "    <tr>\n",
       "      <th>1</th>\n",
       "      <td>0</td>\n",
       "      <td>22750080.0</td>\n",
       "    </tr>\n",
       "    <tr>\n",
       "      <th>2</th>\n",
       "      <td>0</td>\n",
       "      <td>13443619.0</td>\n",
       "    </tr>\n",
       "    <tr>\n",
       "      <th>3</th>\n",
       "      <td>0</td>\n",
       "      <td>16264892.0</td>\n",
       "    </tr>\n",
       "    <tr>\n",
       "      <th>4</th>\n",
       "      <td>0</td>\n",
       "      <td>11816107.0</td>\n",
       "    </tr>\n",
       "  </tbody>\n",
       "</table>\n",
       "</div>"
      ],
      "text/plain": [
       "   Mixed     Revenue\n",
       "0      0  30632752.0\n",
       "1      0  22750080.0\n",
       "2      0  13443619.0\n",
       "3      0  16264892.0\n",
       "4      0  11816107.0"
      ]
     },
     "execution_count": 195,
     "metadata": {},
     "output_type": "execute_result"
    }
   ],
   "source": [
    "Mix= df[['Mixed','Revenue']]\n",
    "Mix.head()"
   ]
  },
  {
   "cell_type": "code",
   "execution_count": 208,
   "id": "e1a5575d",
   "metadata": {},
   "outputs": [
    {
     "name": "stderr",
     "output_type": "stream",
     "text": [
      "C:\\Users\\tiffa\\anaconda3\\lib\\site-packages\\sklearn\\cluster\\_kmeans.py:1036: UserWarning: KMeans is known to have a memory leak on Windows with MKL, when there are less chunks than available threads. You can avoid it by setting the environment variable OMP_NUM_THREADS=1.\n",
      "  warnings.warn(\n"
     ]
    },
    {
     "name": "stdout",
     "output_type": "stream",
     "text": [
      "[2484221520969380.0, 596129678070499.9, 335108565752981.9, 125040090914582.95, 64554223543917.24, 49877208431724.664, 38913881536379.54, 29102383759180.957, 18287390133077.45, 13029312289886.562]\n"
     ]
    }
   ],
   "source": [
    "#calculate distortion for a range of number of cluster\n",
    "distortions= []\n",
    "for k in range(1,11):\n",
    "    km = KMeans(n_clusters=k, init = 'k-means++', max_iter = 300, n_init = 10, tol=1e-04, random_state = 0)\n",
    "    km.fit(Gen)\n",
    "    distortions.append(km.inertia_)\n",
    "print(distortions)"
   ]
  },
  {
   "cell_type": "code",
   "execution_count": 206,
   "id": "7515cd2e",
   "metadata": {},
   "outputs": [
    {
     "data": {
      "text/plain": [
       "2"
      ]
     },
     "execution_count": 206,
     "metadata": {},
     "output_type": "execute_result"
    }
   ],
   "source": [
    "#Elbow\n",
    "kl = KneeLocator(range(1, 11), distortions, curve=\"convex\", direction=\"decreasing\")\n",
    "kl.elbow"
   ]
  },
  {
   "cell_type": "code",
   "execution_count": 207,
   "id": "e24ddead",
   "metadata": {},
   "outputs": [
    {
     "data": {
      "text/plain": [
       "[<matplotlib.lines.Line2D at 0x1b46312f0d0>]"
      ]
     },
     "execution_count": 207,
     "metadata": {},
     "output_type": "execute_result"
    },
    {
     "data": {
      "image/png": "[encoded data removed]",
      "text/plain": [
       "<Figure size 432x288 with 1 Axes>"
      ]
     },
     "metadata": {
      "needs_background": "light"
     },
     "output_type": "display_data"
    }
   ],
   "source": [
    "#Draw elbow plot and from that figure out optimal value of k plot\n",
    "plt.xlabel('num of clusters')\n",
    "plt.ylabel('distortions')\n",
    "plt.plot(range(1,11), distortions, marker='o')\n",
    "\n",
    "#the optimal value of k is 2."
   ]
  },
  {
   "cell_type": "code",
   "execution_count": 181,
   "id": "9ef44d02",
   "metadata": {},
   "outputs": [
    {
     "data": {
      "image/png": "[encoded data removed]",
      "text/plain": [
       "<Figure size 432x288 with 1 Axes>"
      ]
     },
     "metadata": {
      "needs_background": "light"
     },
     "output_type": "display_data"
    }
   ],
   "source": [
    "#plotting the data\n",
    "plt.scatter(Gen.iloc[:, 0], Gen.iloc[:, 1], c='red', marker='o', edgecolor='black', s=10)\n",
    "plt.show()"
   ]
  },
  {
   "cell_type": "code",
   "execution_count": 209,
   "id": "16c98cc7",
   "metadata": {},
   "outputs": [
    {
     "data": {
      "text/plain": [
       "array([0, 0, 1, 1, 1, 1, 1, 1, 1, 1, 1, 1, 1, 1, 1, 1, 1, 0, 1, 1, 0, 1,\n",
       "       1, 1, 0, 1, 0, 0, 0, 0, 1, 0, 1, 1, 1, 1, 1, 0, 1])"
      ]
     },
     "execution_count": 209,
     "metadata": {},
     "output_type": "execute_result"
    }
   ],
   "source": [
    "#training K-Means clustering\n",
    "km = KMeans(n_clusters=2, init='k-means++',n_init=10, max_iter=300,tol=1e-04, random_state=0)\n",
    "y_predict2 = km.fit_predict(Gen)\n",
    "y_predict2"
   ]
  },
  {
   "cell_type": "code",
   "execution_count": 210,
   "id": "7487d70a",
   "metadata": {},
   "outputs": [
    {
     "data": {
      "text/plain": [
       "<matplotlib.collections.PathCollection at 0x1b462f97400>"
      ]
     },
     "execution_count": 210,
     "metadata": {},
     "output_type": "execute_result"
    },
    {
     "data": {
      "image/png": "[encoded data removed]",
      "text/plain": [
       "<Figure size 432x288 with 1 Axes>"
      ]
     },
     "metadata": {
      "needs_background": "light"
     },
     "output_type": "display_data"
    }
   ],
   "source": [
    "#plotting the trained K-Means clustering\n",
    "plt.scatter(Gen.iloc[:,0],Gen.iloc[:,1],c=y_predict2)"
   ]
  },
  {
   "cell_type": "code",
   "execution_count": 184,
   "id": "8d2f4ba8",
   "metadata": {},
   "outputs": [
    {
     "data": {
      "text/html": [
       "<div>\n",
       "<style scoped>\n",
       "    .dataframe tbody tr th:only-of-type {\n",
       "        vertical-align: middle;\n",
       "    }\n",
       "\n",
       "    .dataframe tbody tr th {\n",
       "        vertical-align: top;\n",
       "    }\n",
       "\n",
       "    .dataframe thead th {\n",
       "        text-align: right;\n",
       "    }\n",
       "</style>\n",
       "<table border=\"1\" class=\"dataframe\">\n",
       "  <thead>\n",
       "    <tr style=\"text-align: right;\">\n",
       "      <th></th>\n",
       "      <th>Version</th>\n",
       "      <th>Version Name</th>\n",
       "      <th>Start Date</th>\n",
       "      <th>End Date</th>\n",
       "      <th>5 Star Characters</th>\n",
       "      <th>Rerun</th>\n",
       "      <th>Mixed</th>\n",
       "      <th>Gender</th>\n",
       "      <th>Revenue</th>\n",
       "      <th>Banner Days</th>\n",
       "      <th>Avg Revenue/Day</th>\n",
       "      <th>cluster4</th>\n",
       "      <th>cluster2</th>\n",
       "    </tr>\n",
       "  </thead>\n",
       "  <tbody>\n",
       "    <tr>\n",
       "      <th>0</th>\n",
       "      <td>1.0</td>\n",
       "      <td>Welcome to Tevyat</td>\n",
       "      <td>25/09/2020</td>\n",
       "      <td>19/10/2020</td>\n",
       "      <td>Venti</td>\n",
       "      <td>0.0</td>\n",
       "      <td>0</td>\n",
       "      <td>0</td>\n",
       "      <td>30632752.0</td>\n",
       "      <td>25.0</td>\n",
       "      <td>1.225310e+06</td>\n",
       "      <td>0</td>\n",
       "      <td>0</td>\n",
       "    </tr>\n",
       "    <tr>\n",
       "      <th>1</th>\n",
       "      <td>1.0</td>\n",
       "      <td>Welcome to Tevyat</td>\n",
       "      <td>20/10/2020</td>\n",
       "      <td>2020-10-11 00:00:00</td>\n",
       "      <td>Klee</td>\n",
       "      <td>0.0</td>\n",
       "      <td>0</td>\n",
       "      <td>1</td>\n",
       "      <td>22750080.0</td>\n",
       "      <td>22.0</td>\n",
       "      <td>1.034095e+06</td>\n",
       "      <td>0</td>\n",
       "      <td>0</td>\n",
       "    </tr>\n",
       "    <tr>\n",
       "      <th>2</th>\n",
       "      <td>1.1</td>\n",
       "      <td>A New Star Approaches</td>\n",
       "      <td>2020-11-11 00:00:00</td>\n",
       "      <td>30/11/2020</td>\n",
       "      <td>Tartaglia</td>\n",
       "      <td>0.0</td>\n",
       "      <td>0</td>\n",
       "      <td>0</td>\n",
       "      <td>13443619.0</td>\n",
       "      <td>20.0</td>\n",
       "      <td>6.721809e+05</td>\n",
       "      <td>1</td>\n",
       "      <td>1</td>\n",
       "    </tr>\n",
       "    <tr>\n",
       "      <th>3</th>\n",
       "      <td>1.1</td>\n",
       "      <td>A New Star Approaches</td>\n",
       "      <td>2020-01-12 00:00:00</td>\n",
       "      <td>22/12/2020</td>\n",
       "      <td>Zhongli</td>\n",
       "      <td>0.0</td>\n",
       "      <td>0</td>\n",
       "      <td>0</td>\n",
       "      <td>16264892.0</td>\n",
       "      <td>22.0</td>\n",
       "      <td>7.393133e+05</td>\n",
       "      <td>1</td>\n",
       "      <td>1</td>\n",
       "    </tr>\n",
       "    <tr>\n",
       "      <th>4</th>\n",
       "      <td>1.2</td>\n",
       "      <td>The Chalk Prince and the Dragon</td>\n",
       "      <td>23/12/2020</td>\n",
       "      <td>2021-12-01 00:00:00</td>\n",
       "      <td>Albedo</td>\n",
       "      <td>0.0</td>\n",
       "      <td>0</td>\n",
       "      <td>0</td>\n",
       "      <td>11816107.0</td>\n",
       "      <td>21.0</td>\n",
       "      <td>5.626718e+05</td>\n",
       "      <td>1</td>\n",
       "      <td>1</td>\n",
       "    </tr>\n",
       "  </tbody>\n",
       "</table>\n",
       "</div>"
      ],
      "text/plain": [
       "   Version                     Version Name           Start Date  \\\n",
       "0      1.0                Welcome to Tevyat           25/09/2020   \n",
       "1      1.0                Welcome to Tevyat           20/10/2020   \n",
       "2      1.1            A New Star Approaches  2020-11-11 00:00:00   \n",
       "3      1.1            A New Star Approaches  2020-01-12 00:00:00   \n",
       "4      1.2  The Chalk Prince and the Dragon           23/12/2020   \n",
       "\n",
       "              End Date 5 Star Characters  Rerun  Mixed  Gender     Revenue  \\\n",
       "0           19/10/2020             Venti    0.0      0       0  30632752.0   \n",
       "1  2020-10-11 00:00:00              Klee    0.0      0       1  22750080.0   \n",
       "2           30/11/2020         Tartaglia    0.0      0       0  13443619.0   \n",
       "3           22/12/2020           Zhongli    0.0      0       0  16264892.0   \n",
       "4  2021-12-01 00:00:00            Albedo    0.0      0       0  11816107.0   \n",
       "\n",
       "   Banner Days  Avg Revenue/Day  cluster4  cluster2  \n",
       "0         25.0     1.225310e+06         0         0  \n",
       "1         22.0     1.034095e+06         0         0  \n",
       "2         20.0     6.721809e+05         1         1  \n",
       "3         22.0     7.393133e+05         1         1  \n",
       "4         21.0     5.626718e+05         1         1  "
      ]
     },
     "execution_count": 184,
     "metadata": {},
     "output_type": "execute_result"
    }
   ],
   "source": [
    "df['cluster2'] = y_predict2\n",
    "df.head()"
   ]
  },
  {
   "cell_type": "code",
   "execution_count": 185,
   "id": "de918627",
   "metadata": {
    "scrolled": true
   },
   "outputs": [
    {
     "data": {
      "image/png": "[encoded data removed]",
      "text/plain": [
       "<Figure size 432x288 with 1 Axes>"
      ]
     },
     "metadata": {
      "needs_background": "light"
     },
     "output_type": "display_data"
    }
   ],
   "source": [
    "# plot the 2 clusters\n",
    "plt.scatter(Gen.iloc[y_predict2 == 0, 0], Gen.iloc[y_predict2 == 0, 1], s=30, c='blue', marker='v', edgecolor='blue', label='Cluster 1')\n",
    "\n",
    "plt.scatter(Gen.iloc[y_predict2 == 1, 0], Gen.iloc[y_predict2 == 1, 1], s=30, c='pink', marker='s', edgecolor='pink', label='Cluster 2')\n",
    "\n",
    "\n",
    "# plot the centroids\n",
    "plt.scatter(km.cluster_centers_[:, 0], km.cluster_centers_[:, 1], s=200, marker='*', c='red', edgecolor='white', label='Centroids')\n",
    "plt.legend(scatterpoints=1)\n",
    "plt.xlabel('Gender')\n",
    "plt.ylabel('Revenue per Banner')\n",
    "\n",
    "plt.grid()\n",
    "plt.show()"
   ]
  },
  {
   "cell_type": "code",
   "execution_count": 186,
   "id": "3e3a1afe",
   "metadata": {},
   "outputs": [
    {
     "name": "stdout",
     "output_type": "stream",
     "text": [
      "Silhouette Score(n=2): 0.6818033415481198\n"
     ]
    }
   ],
   "source": [
    "print(f'Silhouette Score(n=2): {silhouette_score(Gen, y_predict2)}')"
   ]
  },
  {
   "cell_type": "code",
   "execution_count": 187,
   "id": "78d7ae9b",
   "metadata": {
    "scrolled": true
   },
   "outputs": [
    {
     "name": "stdout",
     "output_type": "stream",
     "text": [
      "35939066.0\n",
      "22750080.0\n",
      "19068372.0\n",
      "6965445.0\n",
      "20909226.0\n"
     ]
    }
   ],
   "source": [
    "#cluster 1\n",
    "print(Gen.iloc[y_predict2 == 0, 1].max())\n",
    "print(Gen.iloc[y_predict2 == 0, 1].min())\n",
    "#cluster 2\n",
    "print(Gen.iloc[y_predict2 == 1, 1].max())\n",
    "print(Gen.iloc[y_predict2 == 1, 1].min())\n",
    "\n",
    "res = (Gen.iloc[y_predict2 == 0, 1].min()+Gen.iloc[y_predict2 == 1, 1].max())/2\n",
    "print(res)\n",
    "#20909226"
   ]
  },
  {
   "cell_type": "code",
   "execution_count": 189,
   "id": "2546094f",
   "metadata": {},
   "outputs": [
    {
     "data": {
      "image/png": "[encoded data removed]",
      "text/plain": [
       "<Figure size 432x288 with 1 Axes>"
      ]
     },
     "metadata": {
      "needs_background": "light"
     },
     "output_type": "display_data"
    }
   ],
   "source": [
    "#plotting the data\n",
    "plt.scatter(Run.iloc[:, 0], Run.iloc[:, 1], c='pink', marker='o', edgecolor='black', s=10)\n",
    "plt.show()"
   ]
  },
  {
   "cell_type": "code",
   "execution_count": 190,
   "id": "6ea4e5e1",
   "metadata": {},
   "outputs": [
    {
     "data": {
      "text/plain": [
       "array([0, 0, 1, 1, 1, 1, 1, 1, 1, 1, 1, 1, 1, 1, 1, 1, 1, 0, 1, 1, 0, 1,\n",
       "       1, 1, 0, 1, 0, 0, 0, 0, 1, 0, 1, 1, 1, 1, 1, 0, 1])"
      ]
     },
     "execution_count": 190,
     "metadata": {},
     "output_type": "execute_result"
    }
   ],
   "source": [
    "#training K-Means clustering\n",
    "km = KMeans(n_clusters=2, init='k-means++',n_init=10, max_iter=300,tol=1e-04, random_state=0)\n",
    "y_predict3 = km.fit_predict(Run)\n",
    "y_predict3"
   ]
  },
  {
   "cell_type": "code",
   "execution_count": 191,
   "id": "a157aa9a",
   "metadata": {},
   "outputs": [
    {
     "data": {
      "text/plain": [
       "<matplotlib.collections.PathCollection at 0x1b463069d30>"
      ]
     },
     "execution_count": 191,
     "metadata": {},
     "output_type": "execute_result"
    },
    {
     "data": {
      "image/png": "[encoded data removed]",
      "text/plain": [
       "<Figure size 432x288 with 1 Axes>"
      ]
     },
     "metadata": {
      "needs_background": "light"
     },
     "output_type": "display_data"
    }
   ],
   "source": [
    "#plotting the trained K-Means clustering\n",
    "plt.scatter(Run.iloc[:,0],Run.iloc[:,1],c=y_predict3)"
   ]
  },
  {
   "cell_type": "code",
   "execution_count": 192,
   "id": "c26775be",
   "metadata": {},
   "outputs": [
    {
     "data": {
      "text/html": [
       "<div>\n",
       "<style scoped>\n",
       "    .dataframe tbody tr th:only-of-type {\n",
       "        vertical-align: middle;\n",
       "    }\n",
       "\n",
       "    .dataframe tbody tr th {\n",
       "        vertical-align: top;\n",
       "    }\n",
       "\n",
       "    .dataframe thead th {\n",
       "        text-align: right;\n",
       "    }\n",
       "</style>\n",
       "<table border=\"1\" class=\"dataframe\">\n",
       "  <thead>\n",
       "    <tr style=\"text-align: right;\">\n",
       "      <th></th>\n",
       "      <th>Version</th>\n",
       "      <th>Version Name</th>\n",
       "      <th>Start Date</th>\n",
       "      <th>End Date</th>\n",
       "      <th>5 Star Characters</th>\n",
       "      <th>Rerun</th>\n",
       "      <th>Mixed</th>\n",
       "      <th>Gender</th>\n",
       "      <th>Revenue</th>\n",
       "      <th>Banner Days</th>\n",
       "      <th>Avg Revenue/Day</th>\n",
       "      <th>cluster4</th>\n",
       "      <th>cluster2</th>\n",
       "      <th>cluster3</th>\n",
       "    </tr>\n",
       "  </thead>\n",
       "  <tbody>\n",
       "    <tr>\n",
       "      <th>0</th>\n",
       "      <td>1.0</td>\n",
       "      <td>Welcome to Tevyat</td>\n",
       "      <td>25/09/2020</td>\n",
       "      <td>19/10/2020</td>\n",
       "      <td>Venti</td>\n",
       "      <td>0.0</td>\n",
       "      <td>0</td>\n",
       "      <td>0</td>\n",
       "      <td>30632752.0</td>\n",
       "      <td>25.0</td>\n",
       "      <td>1.225310e+06</td>\n",
       "      <td>0</td>\n",
       "      <td>0</td>\n",
       "      <td>0</td>\n",
       "    </tr>\n",
       "    <tr>\n",
       "      <th>1</th>\n",
       "      <td>1.0</td>\n",
       "      <td>Welcome to Tevyat</td>\n",
       "      <td>20/10/2020</td>\n",
       "      <td>2020-10-11 00:00:00</td>\n",
       "      <td>Klee</td>\n",
       "      <td>0.0</td>\n",
       "      <td>0</td>\n",
       "      <td>1</td>\n",
       "      <td>22750080.0</td>\n",
       "      <td>22.0</td>\n",
       "      <td>1.034095e+06</td>\n",
       "      <td>0</td>\n",
       "      <td>0</td>\n",
       "      <td>0</td>\n",
       "    </tr>\n",
       "    <tr>\n",
       "      <th>2</th>\n",
       "      <td>1.1</td>\n",
       "      <td>A New Star Approaches</td>\n",
       "      <td>2020-11-11 00:00:00</td>\n",
       "      <td>30/11/2020</td>\n",
       "      <td>Tartaglia</td>\n",
       "      <td>0.0</td>\n",
       "      <td>0</td>\n",
       "      <td>0</td>\n",
       "      <td>13443619.0</td>\n",
       "      <td>20.0</td>\n",
       "      <td>6.721809e+05</td>\n",
       "      <td>1</td>\n",
       "      <td>1</td>\n",
       "      <td>1</td>\n",
       "    </tr>\n",
       "    <tr>\n",
       "      <th>3</th>\n",
       "      <td>1.1</td>\n",
       "      <td>A New Star Approaches</td>\n",
       "      <td>2020-01-12 00:00:00</td>\n",
       "      <td>22/12/2020</td>\n",
       "      <td>Zhongli</td>\n",
       "      <td>0.0</td>\n",
       "      <td>0</td>\n",
       "      <td>0</td>\n",
       "      <td>16264892.0</td>\n",
       "      <td>22.0</td>\n",
       "      <td>7.393133e+05</td>\n",
       "      <td>1</td>\n",
       "      <td>1</td>\n",
       "      <td>1</td>\n",
       "    </tr>\n",
       "    <tr>\n",
       "      <th>4</th>\n",
       "      <td>1.2</td>\n",
       "      <td>The Chalk Prince and the Dragon</td>\n",
       "      <td>23/12/2020</td>\n",
       "      <td>2021-12-01 00:00:00</td>\n",
       "      <td>Albedo</td>\n",
       "      <td>0.0</td>\n",
       "      <td>0</td>\n",
       "      <td>0</td>\n",
       "      <td>11816107.0</td>\n",
       "      <td>21.0</td>\n",
       "      <td>5.626718e+05</td>\n",
       "      <td>1</td>\n",
       "      <td>1</td>\n",
       "      <td>1</td>\n",
       "    </tr>\n",
       "  </tbody>\n",
       "</table>\n",
       "</div>"
      ],
      "text/plain": [
       "   Version                     Version Name           Start Date  \\\n",
       "0      1.0                Welcome to Tevyat           25/09/2020   \n",
       "1      1.0                Welcome to Tevyat           20/10/2020   \n",
       "2      1.1            A New Star Approaches  2020-11-11 00:00:00   \n",
       "3      1.1            A New Star Approaches  2020-01-12 00:00:00   \n",
       "4      1.2  The Chalk Prince and the Dragon           23/12/2020   \n",
       "\n",
       "              End Date 5 Star Characters  Rerun  Mixed  Gender     Revenue  \\\n",
       "0           19/10/2020             Venti    0.0      0       0  30632752.0   \n",
       "1  2020-10-11 00:00:00              Klee    0.0      0       1  22750080.0   \n",
       "2           30/11/2020         Tartaglia    0.0      0       0  13443619.0   \n",
       "3           22/12/2020           Zhongli    0.0      0       0  16264892.0   \n",
       "4  2021-12-01 00:00:00            Albedo    0.0      0       0  11816107.0   \n",
       "\n",
       "   Banner Days  Avg Revenue/Day  cluster4  cluster2  cluster3  \n",
       "0         25.0     1.225310e+06         0         0         0  \n",
       "1         22.0     1.034095e+06         0         0         0  \n",
       "2         20.0     6.721809e+05         1         1         1  \n",
       "3         22.0     7.393133e+05         1         1         1  \n",
       "4         21.0     5.626718e+05         1         1         1  "
      ]
     },
     "execution_count": 192,
     "metadata": {},
     "output_type": "execute_result"
    }
   ],
   "source": [
    "df['cluster3'] = y_predict3\n",
    "df.head()"
   ]
  },
  {
   "cell_type": "code",
   "execution_count": 213,
   "id": "f95739e7",
   "metadata": {},
   "outputs": [
    {
     "data": {
      "image/png": "[encoded data removed]",
      "text/plain": [
       "<Figure size 432x288 with 1 Axes>"
      ]
     },
     "metadata": {
      "needs_background": "light"
     },
     "output_type": "display_data"
    }
   ],
   "source": [
    "# plot the 3 clusters\n",
    "plt.scatter(Run.iloc[y_predict3 == 0, 0], Run.iloc[y_predict3 == 0, 1], s=30, c='blue', marker='v', edgecolor='blue', label='Cluster 1')\n",
    "\n",
    "plt.scatter(Run.iloc[y_predict3 == 1, 0], Run.iloc[y_predict3 == 1, 1], s=30, c='pink', marker='s', edgecolor='pink', label='Cluster 2')\n",
    "\n",
    "\n",
    "# plot the centroids\n",
    "plt.scatter(km.cluster_centers_[:, 0], km.cluster_centers_[:, 1], s=200, marker='*', c='red', edgecolor='white', label='Centroids')\n",
    "plt.legend(scatterpoints=1)\n",
    "plt.xlabel('Rerun')\n",
    "plt.ylabel('Revenue per Banner')\n",
    "\n",
    "plt.grid()\n",
    "plt.show()"
   ]
  },
  {
   "cell_type": "code",
   "execution_count": 214,
   "id": "8e301ec0",
   "metadata": {},
   "outputs": [
    {
     "name": "stdout",
     "output_type": "stream",
     "text": [
      "Silhouette Score(n=2): 0.6818033415480652\n"
     ]
    }
   ],
   "source": [
    "print(f'Silhouette Score(n=2): {silhouette_score(Run, y_predict3)}')"
   ]
  },
  {
   "cell_type": "code",
   "execution_count": 215,
   "id": "6e8e2c65",
   "metadata": {},
   "outputs": [
    {
     "name": "stdout",
     "output_type": "stream",
     "text": [
      "35939066.0\n",
      "22750080.0\n",
      "19068372.0\n",
      "6965445.0\n",
      "20909226.0\n"
     ]
    }
   ],
   "source": [
    "#cluster 1\n",
    "print(Run.iloc[y_predict3 == 0, 1].max())\n",
    "print(Run.iloc[y_predict3 == 0, 1].min())\n",
    "#cluster 2\n",
    "print(Run.iloc[y_predict3 == 1, 1].max())\n",
    "print(Run.iloc[y_predict3 == 1, 1].min())\n",
    "\n",
    "res1 = (Run.iloc[y_predict3 == 0, 1].min()+Run.iloc[y_predict3 == 1, 1].max())/2\n",
    "print(res1)\n",
    "#20909226"
   ]
  },
  {
   "cell_type": "code",
   "execution_count": 196,
   "id": "392082d3",
   "metadata": {},
   "outputs": [
    {
     "data": {
      "image/png": "[encoded data removed]",
      "text/plain": [
       "<Figure size 432x288 with 1 Axes>"
      ]
     },
     "metadata": {
      "needs_background": "light"
     },
     "output_type": "display_data"
    }
   ],
   "source": [
    "#plotting the data\n",
    "plt.scatter(Mix.iloc[:, 0], Run.iloc[:, 1], c='pink', marker='o', edgecolor='black', s=10)\n",
    "plt.show()"
   ]
  },
  {
   "cell_type": "code",
   "execution_count": 197,
   "id": "681e6619",
   "metadata": {},
   "outputs": [
    {
     "data": {
      "text/plain": [
       "array([0, 0, 1, 1, 1, 1, 1, 1, 1, 1, 1, 1, 1, 1, 1, 1, 1, 0, 1, 1, 0, 1,\n",
       "       1, 1, 0, 1, 0, 0, 0, 0, 1, 0, 1, 1, 1, 1, 1, 0, 1])"
      ]
     },
     "execution_count": 197,
     "metadata": {},
     "output_type": "execute_result"
    }
   ],
   "source": [
    "#training K-Means clustering\n",
    "km = KMeans(n_clusters=2, init='k-means++',n_init=10, max_iter=300,tol=1e-04, random_state=0)\n",
    "y_predict4 = km.fit_predict(Mix)\n",
    "y_predict4"
   ]
  },
  {
   "cell_type": "code",
   "execution_count": 198,
   "id": "0d6b8085",
   "metadata": {},
   "outputs": [
    {
     "data": {
      "text/plain": [
       "<matplotlib.collections.PathCollection at 0x1b4631bddc0>"
      ]
     },
     "execution_count": 198,
     "metadata": {},
     "output_type": "execute_result"
    },
    {
     "data": {
      "image/png": "[encoded data removed]",
      "text/plain": [
       "<Figure size 432x288 with 1 Axes>"
      ]
     },
     "metadata": {
      "needs_background": "light"
     },
     "output_type": "display_data"
    }
   ],
   "source": [
    "#plotting the trained K-Means clustering\n",
    "plt.scatter(Mix.iloc[:,0],Mix.iloc[:,1],c=y_predict4)"
   ]
  },
  {
   "cell_type": "code",
   "execution_count": 163,
   "id": "904e0d57",
   "metadata": {},
   "outputs": [
    {
     "data": {
      "text/html": [
       "<div>\n",
       "<style scoped>\n",
       "    .dataframe tbody tr th:only-of-type {\n",
       "        vertical-align: middle;\n",
       "    }\n",
       "\n",
       "    .dataframe tbody tr th {\n",
       "        vertical-align: top;\n",
       "    }\n",
       "\n",
       "    .dataframe thead th {\n",
       "        text-align: right;\n",
       "    }\n",
       "</style>\n",
       "<table border=\"1\" class=\"dataframe\">\n",
       "  <thead>\n",
       "    <tr style=\"text-align: right;\">\n",
       "      <th></th>\n",
       "      <th>Version</th>\n",
       "      <th>Version Name</th>\n",
       "      <th>Start Date</th>\n",
       "      <th>End Date</th>\n",
       "      <th>5 Star Characters</th>\n",
       "      <th>Rerun</th>\n",
       "      <th>Mixed</th>\n",
       "      <th>Gender</th>\n",
       "      <th>Revenue</th>\n",
       "      <th>Banner Days</th>\n",
       "      <th>Avg Revenue/Day</th>\n",
       "      <th>cluster4</th>\n",
       "    </tr>\n",
       "  </thead>\n",
       "  <tbody>\n",
       "    <tr>\n",
       "      <th>0</th>\n",
       "      <td>1.0</td>\n",
       "      <td>Welcome to Tevyat</td>\n",
       "      <td>25/09/2020</td>\n",
       "      <td>19/10/2020</td>\n",
       "      <td>Venti</td>\n",
       "      <td>0.0</td>\n",
       "      <td>0</td>\n",
       "      <td>0</td>\n",
       "      <td>30632752.0</td>\n",
       "      <td>25.0</td>\n",
       "      <td>1.225310e+06</td>\n",
       "      <td>0</td>\n",
       "    </tr>\n",
       "    <tr>\n",
       "      <th>1</th>\n",
       "      <td>1.0</td>\n",
       "      <td>Welcome to Tevyat</td>\n",
       "      <td>20/10/2020</td>\n",
       "      <td>2020-10-11 00:00:00</td>\n",
       "      <td>Klee</td>\n",
       "      <td>0.0</td>\n",
       "      <td>0</td>\n",
       "      <td>1</td>\n",
       "      <td>22750080.0</td>\n",
       "      <td>22.0</td>\n",
       "      <td>1.034095e+06</td>\n",
       "      <td>0</td>\n",
       "    </tr>\n",
       "    <tr>\n",
       "      <th>2</th>\n",
       "      <td>1.1</td>\n",
       "      <td>A New Star Approaches</td>\n",
       "      <td>2020-11-11 00:00:00</td>\n",
       "      <td>30/11/2020</td>\n",
       "      <td>Tartaglia</td>\n",
       "      <td>0.0</td>\n",
       "      <td>0</td>\n",
       "      <td>0</td>\n",
       "      <td>13443619.0</td>\n",
       "      <td>20.0</td>\n",
       "      <td>6.721809e+05</td>\n",
       "      <td>1</td>\n",
       "    </tr>\n",
       "    <tr>\n",
       "      <th>3</th>\n",
       "      <td>1.1</td>\n",
       "      <td>A New Star Approaches</td>\n",
       "      <td>2020-01-12 00:00:00</td>\n",
       "      <td>22/12/2020</td>\n",
       "      <td>Zhongli</td>\n",
       "      <td>0.0</td>\n",
       "      <td>0</td>\n",
       "      <td>0</td>\n",
       "      <td>16264892.0</td>\n",
       "      <td>22.0</td>\n",
       "      <td>7.393133e+05</td>\n",
       "      <td>1</td>\n",
       "    </tr>\n",
       "    <tr>\n",
       "      <th>4</th>\n",
       "      <td>1.2</td>\n",
       "      <td>The Chalk Prince and the Dragon</td>\n",
       "      <td>23/12/2020</td>\n",
       "      <td>2021-12-01 00:00:00</td>\n",
       "      <td>Albedo</td>\n",
       "      <td>0.0</td>\n",
       "      <td>0</td>\n",
       "      <td>0</td>\n",
       "      <td>11816107.0</td>\n",
       "      <td>21.0</td>\n",
       "      <td>5.626718e+05</td>\n",
       "      <td>1</td>\n",
       "    </tr>\n",
       "  </tbody>\n",
       "</table>\n",
       "</div>"
      ],
      "text/plain": [
       "   Version                     Version Name           Start Date  \\\n",
       "0      1.0                Welcome to Tevyat           25/09/2020   \n",
       "1      1.0                Welcome to Tevyat           20/10/2020   \n",
       "2      1.1            A New Star Approaches  2020-11-11 00:00:00   \n",
       "3      1.1            A New Star Approaches  2020-01-12 00:00:00   \n",
       "4      1.2  The Chalk Prince and the Dragon           23/12/2020   \n",
       "\n",
       "              End Date 5 Star Characters  Rerun  Mixed  Gender     Revenue  \\\n",
       "0           19/10/2020             Venti    0.0      0       0  30632752.0   \n",
       "1  2020-10-11 00:00:00              Klee    0.0      0       1  22750080.0   \n",
       "2           30/11/2020         Tartaglia    0.0      0       0  13443619.0   \n",
       "3           22/12/2020           Zhongli    0.0      0       0  16264892.0   \n",
       "4  2021-12-01 00:00:00            Albedo    0.0      0       0  11816107.0   \n",
       "\n",
       "   Banner Days  Avg Revenue/Day  cluster4  \n",
       "0         25.0     1.225310e+06         0  \n",
       "1         22.0     1.034095e+06         0  \n",
       "2         20.0     6.721809e+05         1  \n",
       "3         22.0     7.393133e+05         1  \n",
       "4         21.0     5.626718e+05         1  "
      ]
     },
     "execution_count": 163,
     "metadata": {},
     "output_type": "execute_result"
    }
   ],
   "source": [
    "df['cluster4'] = y_predict4\n",
    "df.head()"
   ]
  },
  {
   "cell_type": "code",
   "execution_count": 165,
   "id": "47300fdf",
   "metadata": {},
   "outputs": [
    {
     "data": {
      "image/png": "[encoded data removed]",
      "text/plain": [
       "<Figure size 432x288 with 1 Axes>"
      ]
     },
     "metadata": {
      "needs_background": "light"
     },
     "output_type": "display_data"
    }
   ],
   "source": [
    "# plot the 2 clusters\n",
    "plt.scatter(Mix.iloc[y_predict4 == 0, 0], Mix.iloc[y_predict4 == 0, 1], s=30, c='blue', marker='v', edgecolor='blue', label='Cluster 1')\n",
    "\n",
    "plt.scatter(Mix.iloc[y_predict4 == 1, 0], Mix.iloc[y_predict4 == 1, 1], s=30, c='pink', marker='s', edgecolor='pink', label='Cluster 2')\n",
    "\n",
    "# plot the centroids\n",
    "plt.scatter(km.cluster_centers_[:, 0], km.cluster_centers_[:, 1], s=200, marker='*', c='red', edgecolor='white', label='Centroids')\n",
    "plt.legend(scatterpoints=1)\n",
    "plt.xlabel('Mixed')\n",
    "plt.ylabel('Revenue per Banner')\n",
    "\n",
    "plt.grid()\n",
    "plt.show()"
   ]
  },
  {
   "cell_type": "code",
   "execution_count": 171,
   "id": "13954b55",
   "metadata": {},
   "outputs": [
    {
     "name": "stdout",
     "output_type": "stream",
     "text": [
      "Silhouette Score(n=2): 0.6818033415481284\n"
     ]
    }
   ],
   "source": [
    "print(f'Silhouette Score(n=2): {silhouette_score(Mix, y_predict4)}')"
   ]
  },
  {
   "cell_type": "code",
   "execution_count": 216,
   "id": "9f69e551",
   "metadata": {},
   "outputs": [
    {
     "name": "stdout",
     "output_type": "stream",
     "text": [
      "35939066.0\n",
      "22750080.0\n",
      "19068372.0\n",
      "6965445.0\n",
      "20909226.0\n"
     ]
    }
   ],
   "source": [
    "#cluster 1\n",
    "print(Mix.iloc[y_predict2 == 0, 1].max())\n",
    "print(Mix.iloc[y_predict2 == 0, 1].min())\n",
    "#cluster 2\n",
    "print(Mix.iloc[y_predict2 == 1, 1].max())\n",
    "print(Mix.iloc[y_predict2 == 1, 1].min())\n",
    "\n",
    "res2 = (Mix.iloc[y_predict2 == 0, 1].min()+Mix.iloc[y_predict2 == 1, 1].max())/2\n",
    "print(res2)\n",
    "#20909226"
   ]
  },
  {
   "cell_type": "code",
   "execution_count": 225,
   "id": "585fe295",
   "metadata": {},
   "outputs": [],
   "source": [
    "df=pd.read_excel(\"Genshin Impact Revenue.xlsx\")\n",
    "df.dropna(inplace=True)\n",
    "\n",
    "#Change data type\n",
    "df.Mixed = df.Mixed.astype(int, copy=False)\n",
    "df.Gender = df.Gender.astype(int, copy=False)\n",
    "\n",
    "#Setting data\n",
    "data = df.iloc[:,[5,6,7,8,9]]"
   ]
  },
  {
   "cell_type": "code",
   "execution_count": 226,
   "id": "8bc5bffd",
   "metadata": {},
   "outputs": [
    {
     "data": {
      "image/png": "[encoded data removed]",
      "text/plain": [
       "<Figure size 720x360 with 1 Axes>"
      ]
     },
     "metadata": {
      "needs_background": "light"
     },
     "output_type": "display_data"
    }
   ],
   "source": [
    "#Hierarchical Clustering - Dendrogram\n",
    "linkage_data = linkage(data, method='ward', metric='euclidean') #Create linkage and calculate euclidean\n",
    "\n",
    "fig, plot = plt.subplots(figsize=(10,5))\n",
    "\n",
    "dendrogram(linkage_data) #Create Dendrogram\n",
    "\n",
    "plot.set_ylabel(\"Euclean Distance\")\n",
    "plot.set_title(\"Banner Classification\")\n",
    "\n",
    "plt.show()"
   ]
  },
  {
   "cell_type": "code",
   "execution_count": 227,
   "id": "bff44250",
   "metadata": {},
   "outputs": [
    {
     "name": "stdout",
     "output_type": "stream",
     "text": [
      "[[5.00000000e+00 3.40000000e+01 1.19220003e+04 2.00000000e+00]\n",
      " [1.30000000e+01 1.80000000e+01 1.47950001e+04 2.00000000e+00]\n",
      " [3.30000000e+01 3.50000000e+01 1.63490000e+04 2.00000000e+00]\n",
      " [1.00000000e+00 2.70000000e+01 1.73750002e+04 2.00000000e+00]\n",
      " [2.10000000e+01 2.30000000e+01 3.16600000e+04 2.00000000e+00]\n",
      " [1.20000000e+01 3.00000000e+01 3.26260000e+04 2.00000000e+00]\n",
      " [2.00000000e+00 2.20000000e+01 3.95470001e+04 2.00000000e+00]\n",
      " [1.00000000e+01 4.00000000e+01 5.55786237e+04 3.00000000e+00]\n",
      " [3.60000000e+01 3.90000000e+01 6.44334449e+04 3.00000000e+00]\n",
      " [8.00000000e+00 4.40000000e+01 1.40230298e+05 3.00000000e+00]\n",
      " [9.00000000e+00 1.50000000e+01 1.63203000e+05 2.00000000e+00]\n",
      " [7.00000000e+00 1.40000000e+01 3.01314000e+05 2.00000000e+00]\n",
      " [3.00000000e+00 4.90000000e+01 3.09131232e+05 3.00000000e+00]\n",
      " [6.00000000e+00 4.50000000e+01 3.21850258e+05 3.00000000e+00]\n",
      " [2.50000000e+01 3.80000000e+01 3.50952000e+05 2.00000000e+00]\n",
      " [2.00000000e+01 2.90000000e+01 3.85741000e+05 2.00000000e+00]\n",
      " [2.60000000e+01 3.70000000e+01 4.57031000e+05 2.00000000e+00]\n",
      " [1.10000000e+01 5.00000000e+01 6.45142738e+05 3.00000000e+00]\n",
      " [3.20000000e+01 5.30000000e+01 6.94577777e+05 3.00000000e+00]\n",
      " [3.10000000e+01 5.40000000e+01 7.05918669e+05 3.00000000e+00]\n",
      " [1.60000000e+01 1.90000000e+01 8.29706000e+05 2.00000000e+00]\n",
      " [4.30000000e+01 5.10000000e+01 8.78186580e+05 5.00000000e+00]\n",
      " [1.70000000e+01 5.50000000e+01 8.86659325e+05 3.00000000e+00]\n",
      " [4.00000000e+00 4.80000000e+01 9.14258574e+05 4.00000000e+00]\n",
      " [4.70000000e+01 5.70000000e+01 1.66311288e+06 6.00000000e+00]\n",
      " [5.20000000e+01 6.20000000e+01 1.76824526e+06 7.00000000e+00]\n",
      " [4.60000000e+01 5.90000000e+01 1.86330417e+06 5.00000000e+00]\n",
      " [2.40000000e+01 5.80000000e+01 1.91581533e+06 4.00000000e+00]\n",
      " [2.80000000e+01 6.10000000e+01 2.94703990e+06 4.00000000e+00]\n",
      " [6.00000000e+01 6.30000000e+01 3.39986635e+06 1.10000000e+01]\n",
      " [0.00000000e+00 6.70000000e+01 4.42924800e+06 5.00000000e+00]\n",
      " [5.60000000e+01 6.50000000e+01 4.57797334e+06 8.00000000e+00]\n",
      " [4.20000000e+01 6.60000000e+01 4.65131648e+06 6.00000000e+00]\n",
      " [4.10000000e+01 6.80000000e+01 5.85792771e+06 1.30000000e+01]\n",
      " [6.40000000e+01 7.20000000e+01 1.08016123e+07 2.00000000e+01]\n",
      " [6.90000000e+01 7.10000000e+01 2.04972425e+07 1.10000000e+01]\n",
      " [7.00000000e+01 7.30000000e+01 2.28108507e+07 2.80000000e+01]\n",
      " [7.40000000e+01 7.50000000e+01 6.14506606e+07 3.90000000e+01]]\n"
     ]
    }
   ],
   "source": [
    "print(linkage_data) #(Cluster, Cluster, Euclean Distance, Singletons)"
   ]
  },
  {
   "cell_type": "code",
   "execution_count": null,
   "id": "f31324f8",
   "metadata": {},
   "outputs": [],
   "source": []
  }
 ],
 "metadata": {
  "kernelspec": {
   "display_name": "Python 3 (ipykernel)",
   "language": "python",
   "name": "python3"
  },
  "language_info": {
   "codemirror_mode": {
    "name": "ipython",
    "version": 3
   },
   "file_extension": ".py",
   "mimetype": "text/x-python",
   "name": "python",
   "nbconvert_exporter": "python",
   "pygments_lexer": "ipython3",
   "version": "3.9.12"
  }
 },
 "nbformat": 4,
 "nbformat_minor": 5
}
